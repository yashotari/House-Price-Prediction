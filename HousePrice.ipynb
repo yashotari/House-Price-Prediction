{
 "cells": [
  {
   "cell_type": "code",
   "execution_count": 33,
   "id": "093d3a85",
   "metadata": {},
   "outputs": [],
   "source": [
    "import pandas as pd\n",
    "import numpy as np\n",
    "import matplotlib.pyplot as plt\n",
    "import seaborn as sns "
   ]
  },
  {
   "cell_type": "code",
   "execution_count": 34,
   "id": "3b52643e",
   "metadata": {},
   "outputs": [],
   "source": [
    "df_train=pd.read_csv('train.csv')\n",
    "df_test=pd.read_csv('test.csv')"
   ]
  },
  {
   "cell_type": "markdown",
   "id": "2bf60059",
   "metadata": {},
   "source": [
    "# Outliers"
   ]
  },
  {
   "cell_type": "code",
   "execution_count": 3,
   "id": "d5fde968",
   "metadata": {},
   "outputs": [],
   "source": [
    "df_train=df_train[df_train['SalePrice']<500000]"
   ]
  },
  {
   "cell_type": "code",
   "execution_count": 36,
   "id": "050fa084",
   "metadata": {},
   "outputs": [
    {
     "data": {
      "text/html": [
       "<div>\n",
       "<style scoped>\n",
       "    .dataframe tbody tr th:only-of-type {\n",
       "        vertical-align: middle;\n",
       "    }\n",
       "\n",
       "    .dataframe tbody tr th {\n",
       "        vertical-align: top;\n",
       "    }\n",
       "\n",
       "    .dataframe thead th {\n",
       "        text-align: right;\n",
       "    }\n",
       "</style>\n",
       "<table border=\"1\" class=\"dataframe\">\n",
       "  <thead>\n",
       "    <tr style=\"text-align: right;\">\n",
       "      <th></th>\n",
       "      <th>Id</th>\n",
       "      <th>MSSubClass</th>\n",
       "      <th>MSZoning</th>\n",
       "      <th>LotFrontage</th>\n",
       "      <th>LotArea</th>\n",
       "      <th>Street</th>\n",
       "      <th>Alley</th>\n",
       "      <th>LotShape</th>\n",
       "      <th>LandContour</th>\n",
       "      <th>Utilities</th>\n",
       "      <th>...</th>\n",
       "      <th>PoolArea</th>\n",
       "      <th>PoolQC</th>\n",
       "      <th>Fence</th>\n",
       "      <th>MiscFeature</th>\n",
       "      <th>MiscVal</th>\n",
       "      <th>MoSold</th>\n",
       "      <th>YrSold</th>\n",
       "      <th>SaleType</th>\n",
       "      <th>SaleCondition</th>\n",
       "      <th>SalePrice</th>\n",
       "    </tr>\n",
       "  </thead>\n",
       "  <tbody>\n",
       "    <tr>\n",
       "      <th>0</th>\n",
       "      <td>1</td>\n",
       "      <td>60</td>\n",
       "      <td>RL</td>\n",
       "      <td>65.0</td>\n",
       "      <td>8450</td>\n",
       "      <td>Pave</td>\n",
       "      <td>NaN</td>\n",
       "      <td>Reg</td>\n",
       "      <td>Lvl</td>\n",
       "      <td>AllPub</td>\n",
       "      <td>...</td>\n",
       "      <td>0</td>\n",
       "      <td>NaN</td>\n",
       "      <td>NaN</td>\n",
       "      <td>NaN</td>\n",
       "      <td>0</td>\n",
       "      <td>2</td>\n",
       "      <td>2008</td>\n",
       "      <td>WD</td>\n",
       "      <td>Normal</td>\n",
       "      <td>208500</td>\n",
       "    </tr>\n",
       "    <tr>\n",
       "      <th>1</th>\n",
       "      <td>2</td>\n",
       "      <td>20</td>\n",
       "      <td>RL</td>\n",
       "      <td>80.0</td>\n",
       "      <td>9600</td>\n",
       "      <td>Pave</td>\n",
       "      <td>NaN</td>\n",
       "      <td>Reg</td>\n",
       "      <td>Lvl</td>\n",
       "      <td>AllPub</td>\n",
       "      <td>...</td>\n",
       "      <td>0</td>\n",
       "      <td>NaN</td>\n",
       "      <td>NaN</td>\n",
       "      <td>NaN</td>\n",
       "      <td>0</td>\n",
       "      <td>5</td>\n",
       "      <td>2007</td>\n",
       "      <td>WD</td>\n",
       "      <td>Normal</td>\n",
       "      <td>181500</td>\n",
       "    </tr>\n",
       "    <tr>\n",
       "      <th>2</th>\n",
       "      <td>3</td>\n",
       "      <td>60</td>\n",
       "      <td>RL</td>\n",
       "      <td>68.0</td>\n",
       "      <td>11250</td>\n",
       "      <td>Pave</td>\n",
       "      <td>NaN</td>\n",
       "      <td>IR1</td>\n",
       "      <td>Lvl</td>\n",
       "      <td>AllPub</td>\n",
       "      <td>...</td>\n",
       "      <td>0</td>\n",
       "      <td>NaN</td>\n",
       "      <td>NaN</td>\n",
       "      <td>NaN</td>\n",
       "      <td>0</td>\n",
       "      <td>9</td>\n",
       "      <td>2008</td>\n",
       "      <td>WD</td>\n",
       "      <td>Normal</td>\n",
       "      <td>223500</td>\n",
       "    </tr>\n",
       "    <tr>\n",
       "      <th>3</th>\n",
       "      <td>4</td>\n",
       "      <td>70</td>\n",
       "      <td>RL</td>\n",
       "      <td>60.0</td>\n",
       "      <td>9550</td>\n",
       "      <td>Pave</td>\n",
       "      <td>NaN</td>\n",
       "      <td>IR1</td>\n",
       "      <td>Lvl</td>\n",
       "      <td>AllPub</td>\n",
       "      <td>...</td>\n",
       "      <td>0</td>\n",
       "      <td>NaN</td>\n",
       "      <td>NaN</td>\n",
       "      <td>NaN</td>\n",
       "      <td>0</td>\n",
       "      <td>2</td>\n",
       "      <td>2006</td>\n",
       "      <td>WD</td>\n",
       "      <td>Abnorml</td>\n",
       "      <td>140000</td>\n",
       "    </tr>\n",
       "    <tr>\n",
       "      <th>4</th>\n",
       "      <td>5</td>\n",
       "      <td>60</td>\n",
       "      <td>RL</td>\n",
       "      <td>84.0</td>\n",
       "      <td>14260</td>\n",
       "      <td>Pave</td>\n",
       "      <td>NaN</td>\n",
       "      <td>IR1</td>\n",
       "      <td>Lvl</td>\n",
       "      <td>AllPub</td>\n",
       "      <td>...</td>\n",
       "      <td>0</td>\n",
       "      <td>NaN</td>\n",
       "      <td>NaN</td>\n",
       "      <td>NaN</td>\n",
       "      <td>0</td>\n",
       "      <td>12</td>\n",
       "      <td>2008</td>\n",
       "      <td>WD</td>\n",
       "      <td>Normal</td>\n",
       "      <td>250000</td>\n",
       "    </tr>\n",
       "    <tr>\n",
       "      <th>...</th>\n",
       "      <td>...</td>\n",
       "      <td>...</td>\n",
       "      <td>...</td>\n",
       "      <td>...</td>\n",
       "      <td>...</td>\n",
       "      <td>...</td>\n",
       "      <td>...</td>\n",
       "      <td>...</td>\n",
       "      <td>...</td>\n",
       "      <td>...</td>\n",
       "      <td>...</td>\n",
       "      <td>...</td>\n",
       "      <td>...</td>\n",
       "      <td>...</td>\n",
       "      <td>...</td>\n",
       "      <td>...</td>\n",
       "      <td>...</td>\n",
       "      <td>...</td>\n",
       "      <td>...</td>\n",
       "      <td>...</td>\n",
       "      <td>...</td>\n",
       "    </tr>\n",
       "    <tr>\n",
       "      <th>1455</th>\n",
       "      <td>1456</td>\n",
       "      <td>60</td>\n",
       "      <td>RL</td>\n",
       "      <td>62.0</td>\n",
       "      <td>7917</td>\n",
       "      <td>Pave</td>\n",
       "      <td>NaN</td>\n",
       "      <td>Reg</td>\n",
       "      <td>Lvl</td>\n",
       "      <td>AllPub</td>\n",
       "      <td>...</td>\n",
       "      <td>0</td>\n",
       "      <td>NaN</td>\n",
       "      <td>NaN</td>\n",
       "      <td>NaN</td>\n",
       "      <td>0</td>\n",
       "      <td>8</td>\n",
       "      <td>2007</td>\n",
       "      <td>WD</td>\n",
       "      <td>Normal</td>\n",
       "      <td>175000</td>\n",
       "    </tr>\n",
       "    <tr>\n",
       "      <th>1456</th>\n",
       "      <td>1457</td>\n",
       "      <td>20</td>\n",
       "      <td>RL</td>\n",
       "      <td>85.0</td>\n",
       "      <td>13175</td>\n",
       "      <td>Pave</td>\n",
       "      <td>NaN</td>\n",
       "      <td>Reg</td>\n",
       "      <td>Lvl</td>\n",
       "      <td>AllPub</td>\n",
       "      <td>...</td>\n",
       "      <td>0</td>\n",
       "      <td>NaN</td>\n",
       "      <td>MnPrv</td>\n",
       "      <td>NaN</td>\n",
       "      <td>0</td>\n",
       "      <td>2</td>\n",
       "      <td>2010</td>\n",
       "      <td>WD</td>\n",
       "      <td>Normal</td>\n",
       "      <td>210000</td>\n",
       "    </tr>\n",
       "    <tr>\n",
       "      <th>1457</th>\n",
       "      <td>1458</td>\n",
       "      <td>70</td>\n",
       "      <td>RL</td>\n",
       "      <td>66.0</td>\n",
       "      <td>9042</td>\n",
       "      <td>Pave</td>\n",
       "      <td>NaN</td>\n",
       "      <td>Reg</td>\n",
       "      <td>Lvl</td>\n",
       "      <td>AllPub</td>\n",
       "      <td>...</td>\n",
       "      <td>0</td>\n",
       "      <td>NaN</td>\n",
       "      <td>GdPrv</td>\n",
       "      <td>Shed</td>\n",
       "      <td>2500</td>\n",
       "      <td>5</td>\n",
       "      <td>2010</td>\n",
       "      <td>WD</td>\n",
       "      <td>Normal</td>\n",
       "      <td>266500</td>\n",
       "    </tr>\n",
       "    <tr>\n",
       "      <th>1458</th>\n",
       "      <td>1459</td>\n",
       "      <td>20</td>\n",
       "      <td>RL</td>\n",
       "      <td>68.0</td>\n",
       "      <td>9717</td>\n",
       "      <td>Pave</td>\n",
       "      <td>NaN</td>\n",
       "      <td>Reg</td>\n",
       "      <td>Lvl</td>\n",
       "      <td>AllPub</td>\n",
       "      <td>...</td>\n",
       "      <td>0</td>\n",
       "      <td>NaN</td>\n",
       "      <td>NaN</td>\n",
       "      <td>NaN</td>\n",
       "      <td>0</td>\n",
       "      <td>4</td>\n",
       "      <td>2010</td>\n",
       "      <td>WD</td>\n",
       "      <td>Normal</td>\n",
       "      <td>142125</td>\n",
       "    </tr>\n",
       "    <tr>\n",
       "      <th>1459</th>\n",
       "      <td>1460</td>\n",
       "      <td>20</td>\n",
       "      <td>RL</td>\n",
       "      <td>75.0</td>\n",
       "      <td>9937</td>\n",
       "      <td>Pave</td>\n",
       "      <td>NaN</td>\n",
       "      <td>Reg</td>\n",
       "      <td>Lvl</td>\n",
       "      <td>AllPub</td>\n",
       "      <td>...</td>\n",
       "      <td>0</td>\n",
       "      <td>NaN</td>\n",
       "      <td>NaN</td>\n",
       "      <td>NaN</td>\n",
       "      <td>0</td>\n",
       "      <td>6</td>\n",
       "      <td>2008</td>\n",
       "      <td>WD</td>\n",
       "      <td>Normal</td>\n",
       "      <td>147500</td>\n",
       "    </tr>\n",
       "  </tbody>\n",
       "</table>\n",
       "<p>1460 rows × 81 columns</p>\n",
       "</div>"
      ],
      "text/plain": [
       "        Id  MSSubClass MSZoning  LotFrontage  LotArea Street Alley LotShape  \\\n",
       "0        1          60       RL         65.0     8450   Pave   NaN      Reg   \n",
       "1        2          20       RL         80.0     9600   Pave   NaN      Reg   \n",
       "2        3          60       RL         68.0    11250   Pave   NaN      IR1   \n",
       "3        4          70       RL         60.0     9550   Pave   NaN      IR1   \n",
       "4        5          60       RL         84.0    14260   Pave   NaN      IR1   \n",
       "...    ...         ...      ...          ...      ...    ...   ...      ...   \n",
       "1455  1456          60       RL         62.0     7917   Pave   NaN      Reg   \n",
       "1456  1457          20       RL         85.0    13175   Pave   NaN      Reg   \n",
       "1457  1458          70       RL         66.0     9042   Pave   NaN      Reg   \n",
       "1458  1459          20       RL         68.0     9717   Pave   NaN      Reg   \n",
       "1459  1460          20       RL         75.0     9937   Pave   NaN      Reg   \n",
       "\n",
       "     LandContour Utilities  ... PoolArea PoolQC  Fence MiscFeature MiscVal  \\\n",
       "0            Lvl    AllPub  ...        0    NaN    NaN         NaN       0   \n",
       "1            Lvl    AllPub  ...        0    NaN    NaN         NaN       0   \n",
       "2            Lvl    AllPub  ...        0    NaN    NaN         NaN       0   \n",
       "3            Lvl    AllPub  ...        0    NaN    NaN         NaN       0   \n",
       "4            Lvl    AllPub  ...        0    NaN    NaN         NaN       0   \n",
       "...          ...       ...  ...      ...    ...    ...         ...     ...   \n",
       "1455         Lvl    AllPub  ...        0    NaN    NaN         NaN       0   \n",
       "1456         Lvl    AllPub  ...        0    NaN  MnPrv         NaN       0   \n",
       "1457         Lvl    AllPub  ...        0    NaN  GdPrv        Shed    2500   \n",
       "1458         Lvl    AllPub  ...        0    NaN    NaN         NaN       0   \n",
       "1459         Lvl    AllPub  ...        0    NaN    NaN         NaN       0   \n",
       "\n",
       "     MoSold YrSold  SaleType  SaleCondition  SalePrice  \n",
       "0         2   2008        WD         Normal     208500  \n",
       "1         5   2007        WD         Normal     181500  \n",
       "2         9   2008        WD         Normal     223500  \n",
       "3         2   2006        WD        Abnorml     140000  \n",
       "4        12   2008        WD         Normal     250000  \n",
       "...     ...    ...       ...            ...        ...  \n",
       "1455      8   2007        WD         Normal     175000  \n",
       "1456      2   2010        WD         Normal     210000  \n",
       "1457      5   2010        WD         Normal     266500  \n",
       "1458      4   2010        WD         Normal     142125  \n",
       "1459      6   2008        WD         Normal     147500  \n",
       "\n",
       "[1460 rows x 81 columns]"
      ]
     },
     "execution_count": 36,
     "metadata": {},
     "output_type": "execute_result"
    }
   ],
   "source": [
    "df_train"
   ]
  },
  {
   "cell_type": "markdown",
   "id": "d6aa0890",
   "metadata": {},
   "source": [
    "# Missing Values"
   ]
  },
  {
   "cell_type": "code",
   "execution_count": 4,
   "id": "7c191718",
   "metadata": {},
   "outputs": [
    {
     "data": {
      "text/plain": [
       "{'Id': 0,\n",
       " 'MSSubClass': 0,\n",
       " 'MSZoning': 0,\n",
       " 'LotFrontage': 259,\n",
       " 'LotArea': 0,\n",
       " 'Street': 0,\n",
       " 'Alley': 1360,\n",
       " 'LotShape': 0,\n",
       " 'LandContour': 0,\n",
       " 'Utilities': 0,\n",
       " 'LotConfig': 0,\n",
       " 'LandSlope': 0,\n",
       " 'Neighborhood': 0,\n",
       " 'Condition1': 0,\n",
       " 'Condition2': 0,\n",
       " 'BldgType': 0,\n",
       " 'HouseStyle': 0,\n",
       " 'OverallQual': 0,\n",
       " 'OverallCond': 0,\n",
       " 'YearBuilt': 0,\n",
       " 'YearRemodAdd': 0,\n",
       " 'RoofStyle': 0,\n",
       " 'RoofMatl': 0,\n",
       " 'Exterior1st': 0,\n",
       " 'Exterior2nd': 0,\n",
       " 'MasVnrType': 8,\n",
       " 'MasVnrArea': 8,\n",
       " 'ExterQual': 0,\n",
       " 'ExterCond': 0,\n",
       " 'Foundation': 0,\n",
       " 'BsmtQual': 37,\n",
       " 'BsmtCond': 37,\n",
       " 'BsmtExposure': 38,\n",
       " 'BsmtFinType1': 37,\n",
       " 'BsmtFinSF1': 0,\n",
       " 'BsmtFinType2': 38,\n",
       " 'BsmtFinSF2': 0,\n",
       " 'BsmtUnfSF': 0,\n",
       " 'TotalBsmtSF': 0,\n",
       " 'Heating': 0,\n",
       " 'HeatingQC': 0,\n",
       " 'CentralAir': 0,\n",
       " 'Electrical': 1,\n",
       " '1stFlrSF': 0,\n",
       " '2ndFlrSF': 0,\n",
       " 'LowQualFinSF': 0,\n",
       " 'GrLivArea': 0,\n",
       " 'BsmtFullBath': 0,\n",
       " 'BsmtHalfBath': 0,\n",
       " 'FullBath': 0,\n",
       " 'HalfBath': 0,\n",
       " 'BedroomAbvGr': 0,\n",
       " 'KitchenAbvGr': 0,\n",
       " 'KitchenQual': 0,\n",
       " 'TotRmsAbvGrd': 0,\n",
       " 'Functional': 0,\n",
       " 'Fireplaces': 0,\n",
       " 'FireplaceQu': 690,\n",
       " 'GarageType': 81,\n",
       " 'GarageYrBlt': 81,\n",
       " 'GarageFinish': 81,\n",
       " 'GarageCars': 0,\n",
       " 'GarageArea': 0,\n",
       " 'GarageQual': 81,\n",
       " 'GarageCond': 81,\n",
       " 'PavedDrive': 0,\n",
       " 'WoodDeckSF': 0,\n",
       " 'OpenPorchSF': 0,\n",
       " 'EnclosedPorch': 0,\n",
       " '3SsnPorch': 0,\n",
       " 'ScreenPorch': 0,\n",
       " 'PoolArea': 0,\n",
       " 'PoolQC': 1445,\n",
       " 'Fence': 1171,\n",
       " 'MiscFeature': 1397,\n",
       " 'MiscVal': 0,\n",
       " 'MoSold': 0,\n",
       " 'YrSold': 0,\n",
       " 'SaleType': 0,\n",
       " 'SaleCondition': 0,\n",
       " 'SalePrice': 0}"
      ]
     },
     "execution_count": 4,
     "metadata": {},
     "output_type": "execute_result"
    }
   ],
   "source": [
    "df_train.isna().sum().to_dict()"
   ]
  },
  {
   "cell_type": "code",
   "execution_count": null,
   "id": "7a1ae418",
   "metadata": {},
   "outputs": [],
   "source": []
  },
  {
   "cell_type": "code",
   "execution_count": 5,
   "id": "6a2e1cdd",
   "metadata": {},
   "outputs": [],
   "source": [
    "columns_numeric=list(df_train.select_dtypes(exclude='object').columns)\n",
    "columns_numeric.remove('Id')\n",
    "columns_numeric.remove('SalePrice')\n",
    "columns_categorical=list(df_train.select_dtypes(include='object').columns)"
   ]
  },
  {
   "cell_type": "code",
   "execution_count": 6,
   "id": "9c5fe3f2",
   "metadata": {},
   "outputs": [],
   "source": [
    "from sklearn.impute import SimpleImputer\n",
    "imputer_numeric=SimpleImputer(strategy='median')\n",
    "imputer_cat=SimpleImputer(strategy='most_frequent')\n",
    "\n",
    "imputer_numeric.fit(df_train[columns_numeric]) # median of every column\n",
    "imputer_cat.fit(df_train[columns_categorical]) # mode of every column\n",
    "\n",
    "df_train[columns_numeric] = imputer_numeric.transform(df_train[columns_numeric]) # fills missing data\n",
    "df_train[columns_categorical] = imputer_cat.transform(df_train[columns_categorical]) # fill"
   ]
  },
  {
   "cell_type": "code",
   "execution_count": 7,
   "id": "33330ab4",
   "metadata": {},
   "outputs": [
    {
     "data": {
      "text/plain": [
       "0"
      ]
     },
     "execution_count": 7,
     "metadata": {},
     "output_type": "execute_result"
    }
   ],
   "source": [
    "df_train.isna().sum().sum()"
   ]
  },
  {
   "cell_type": "code",
   "execution_count": 8,
   "id": "c0873e02",
   "metadata": {},
   "outputs": [],
   "source": [
    "df_test[columns_numeric] = imputer_numeric.transform(df_test[columns_numeric]) # fills missing data\n",
    "df_test[columns_categorical] = imputer_cat.transform(df_test[columns_categorical]) # fill"
   ]
  },
  {
   "cell_type": "code",
   "execution_count": 9,
   "id": "fa929d97",
   "metadata": {},
   "outputs": [
    {
     "data": {
      "text/plain": [
       "0"
      ]
     },
     "execution_count": 9,
     "metadata": {},
     "output_type": "execute_result"
    }
   ],
   "source": [
    "df_test.isna().sum().sum()"
   ]
  },
  {
   "cell_type": "code",
   "execution_count": 10,
   "id": "cf92c529",
   "metadata": {},
   "outputs": [
    {
     "data": {
      "text/plain": [
       "((1451, 81), (1459, 80))"
      ]
     },
     "execution_count": 10,
     "metadata": {},
     "output_type": "execute_result"
    }
   ],
   "source": [
    "df_train.shape,df_test.shape"
   ]
  },
  {
   "cell_type": "code",
   "execution_count": 11,
   "id": "345ed19c",
   "metadata": {},
   "outputs": [
    {
     "name": "stdout",
     "output_type": "stream",
     "text": [
      "<class 'pandas.core.frame.DataFrame'>\n",
      "Int64Index: 1451 entries, 0 to 1459\n",
      "Data columns (total 81 columns):\n",
      " #   Column         Non-Null Count  Dtype  \n",
      "---  ------         --------------  -----  \n",
      " 0   Id             1451 non-null   int64  \n",
      " 1   MSSubClass     1451 non-null   float64\n",
      " 2   MSZoning       1451 non-null   object \n",
      " 3   LotFrontage    1451 non-null   float64\n",
      " 4   LotArea        1451 non-null   float64\n",
      " 5   Street         1451 non-null   object \n",
      " 6   Alley          1451 non-null   object \n",
      " 7   LotShape       1451 non-null   object \n",
      " 8   LandContour    1451 non-null   object \n",
      " 9   Utilities      1451 non-null   object \n",
      " 10  LotConfig      1451 non-null   object \n",
      " 11  LandSlope      1451 non-null   object \n",
      " 12  Neighborhood   1451 non-null   object \n",
      " 13  Condition1     1451 non-null   object \n",
      " 14  Condition2     1451 non-null   object \n",
      " 15  BldgType       1451 non-null   object \n",
      " 16  HouseStyle     1451 non-null   object \n",
      " 17  OverallQual    1451 non-null   float64\n",
      " 18  OverallCond    1451 non-null   float64\n",
      " 19  YearBuilt      1451 non-null   float64\n",
      " 20  YearRemodAdd   1451 non-null   float64\n",
      " 21  RoofStyle      1451 non-null   object \n",
      " 22  RoofMatl       1451 non-null   object \n",
      " 23  Exterior1st    1451 non-null   object \n",
      " 24  Exterior2nd    1451 non-null   object \n",
      " 25  MasVnrType     1451 non-null   object \n",
      " 26  MasVnrArea     1451 non-null   float64\n",
      " 27  ExterQual      1451 non-null   object \n",
      " 28  ExterCond      1451 non-null   object \n",
      " 29  Foundation     1451 non-null   object \n",
      " 30  BsmtQual       1451 non-null   object \n",
      " 31  BsmtCond       1451 non-null   object \n",
      " 32  BsmtExposure   1451 non-null   object \n",
      " 33  BsmtFinType1   1451 non-null   object \n",
      " 34  BsmtFinSF1     1451 non-null   float64\n",
      " 35  BsmtFinType2   1451 non-null   object \n",
      " 36  BsmtFinSF2     1451 non-null   float64\n",
      " 37  BsmtUnfSF      1451 non-null   float64\n",
      " 38  TotalBsmtSF    1451 non-null   float64\n",
      " 39  Heating        1451 non-null   object \n",
      " 40  HeatingQC      1451 non-null   object \n",
      " 41  CentralAir     1451 non-null   object \n",
      " 42  Electrical     1451 non-null   object \n",
      " 43  1stFlrSF       1451 non-null   float64\n",
      " 44  2ndFlrSF       1451 non-null   float64\n",
      " 45  LowQualFinSF   1451 non-null   float64\n",
      " 46  GrLivArea      1451 non-null   float64\n",
      " 47  BsmtFullBath   1451 non-null   float64\n",
      " 48  BsmtHalfBath   1451 non-null   float64\n",
      " 49  FullBath       1451 non-null   float64\n",
      " 50  HalfBath       1451 non-null   float64\n",
      " 51  BedroomAbvGr   1451 non-null   float64\n",
      " 52  KitchenAbvGr   1451 non-null   float64\n",
      " 53  KitchenQual    1451 non-null   object \n",
      " 54  TotRmsAbvGrd   1451 non-null   float64\n",
      " 55  Functional     1451 non-null   object \n",
      " 56  Fireplaces     1451 non-null   float64\n",
      " 57  FireplaceQu    1451 non-null   object \n",
      " 58  GarageType     1451 non-null   object \n",
      " 59  GarageYrBlt    1451 non-null   float64\n",
      " 60  GarageFinish   1451 non-null   object \n",
      " 61  GarageCars     1451 non-null   float64\n",
      " 62  GarageArea     1451 non-null   float64\n",
      " 63  GarageQual     1451 non-null   object \n",
      " 64  GarageCond     1451 non-null   object \n",
      " 65  PavedDrive     1451 non-null   object \n",
      " 66  WoodDeckSF     1451 non-null   float64\n",
      " 67  OpenPorchSF    1451 non-null   float64\n",
      " 68  EnclosedPorch  1451 non-null   float64\n",
      " 69  3SsnPorch      1451 non-null   float64\n",
      " 70  ScreenPorch    1451 non-null   float64\n",
      " 71  PoolArea       1451 non-null   float64\n",
      " 72  PoolQC         1451 non-null   object \n",
      " 73  Fence          1451 non-null   object \n",
      " 74  MiscFeature    1451 non-null   object \n",
      " 75  MiscVal        1451 non-null   float64\n",
      " 76  MoSold         1451 non-null   float64\n",
      " 77  YrSold         1451 non-null   float64\n",
      " 78  SaleType       1451 non-null   object \n",
      " 79  SaleCondition  1451 non-null   object \n",
      " 80  SalePrice      1451 non-null   int64  \n",
      "dtypes: float64(36), int64(2), object(43)\n",
      "memory usage: 929.5+ KB\n"
     ]
    }
   ],
   "source": [
    "df_train.info()"
   ]
  },
  {
   "cell_type": "markdown",
   "id": "81f94cec",
   "metadata": {},
   "source": [
    "# Feature Encoding - Categorical =>OneHotEncoding"
   ]
  },
  {
   "cell_type": "code",
   "execution_count": 12,
   "id": "f6f25074",
   "metadata": {},
   "outputs": [
    {
     "name": "stderr",
     "output_type": "stream",
     "text": [
      "E:\\anaconda\\lib\\site-packages\\sklearn\\preprocessing\\_encoders.py:828: FutureWarning: `sparse` was renamed to `sparse_output` in version 1.2 and will be removed in 1.4. `sparse_output` is ignored unless you leave `sparse` to its default value.\n",
      "  warnings.warn(\n"
     ]
    },
    {
     "data": {
      "text/html": [
       "<style>#sk-container-id-1 {color: black;background-color: white;}#sk-container-id-1 pre{padding: 0;}#sk-container-id-1 div.sk-toggleable {background-color: white;}#sk-container-id-1 label.sk-toggleable__label {cursor: pointer;display: block;width: 100%;margin-bottom: 0;padding: 0.3em;box-sizing: border-box;text-align: center;}#sk-container-id-1 label.sk-toggleable__label-arrow:before {content: \"▸\";float: left;margin-right: 0.25em;color: #696969;}#sk-container-id-1 label.sk-toggleable__label-arrow:hover:before {color: black;}#sk-container-id-1 div.sk-estimator:hover label.sk-toggleable__label-arrow:before {color: black;}#sk-container-id-1 div.sk-toggleable__content {max-height: 0;max-width: 0;overflow: hidden;text-align: left;background-color: #f0f8ff;}#sk-container-id-1 div.sk-toggleable__content pre {margin: 0.2em;color: black;border-radius: 0.25em;background-color: #f0f8ff;}#sk-container-id-1 input.sk-toggleable__control:checked~div.sk-toggleable__content {max-height: 200px;max-width: 100%;overflow: auto;}#sk-container-id-1 input.sk-toggleable__control:checked~label.sk-toggleable__label-arrow:before {content: \"▾\";}#sk-container-id-1 div.sk-estimator input.sk-toggleable__control:checked~label.sk-toggleable__label {background-color: #d4ebff;}#sk-container-id-1 div.sk-label input.sk-toggleable__control:checked~label.sk-toggleable__label {background-color: #d4ebff;}#sk-container-id-1 input.sk-hidden--visually {border: 0;clip: rect(1px 1px 1px 1px);clip: rect(1px, 1px, 1px, 1px);height: 1px;margin: -1px;overflow: hidden;padding: 0;position: absolute;width: 1px;}#sk-container-id-1 div.sk-estimator {font-family: monospace;background-color: #f0f8ff;border: 1px dotted black;border-radius: 0.25em;box-sizing: border-box;margin-bottom: 0.5em;}#sk-container-id-1 div.sk-estimator:hover {background-color: #d4ebff;}#sk-container-id-1 div.sk-parallel-item::after {content: \"\";width: 100%;border-bottom: 1px solid gray;flex-grow: 1;}#sk-container-id-1 div.sk-label:hover label.sk-toggleable__label {background-color: #d4ebff;}#sk-container-id-1 div.sk-serial::before {content: \"\";position: absolute;border-left: 1px solid gray;box-sizing: border-box;top: 0;bottom: 0;left: 50%;z-index: 0;}#sk-container-id-1 div.sk-serial {display: flex;flex-direction: column;align-items: center;background-color: white;padding-right: 0.2em;padding-left: 0.2em;position: relative;}#sk-container-id-1 div.sk-item {position: relative;z-index: 1;}#sk-container-id-1 div.sk-parallel {display: flex;align-items: stretch;justify-content: center;background-color: white;position: relative;}#sk-container-id-1 div.sk-item::before, #sk-container-id-1 div.sk-parallel-item::before {content: \"\";position: absolute;border-left: 1px solid gray;box-sizing: border-box;top: 0;bottom: 0;left: 50%;z-index: -1;}#sk-container-id-1 div.sk-parallel-item {display: flex;flex-direction: column;z-index: 1;position: relative;background-color: white;}#sk-container-id-1 div.sk-parallel-item:first-child::after {align-self: flex-end;width: 50%;}#sk-container-id-1 div.sk-parallel-item:last-child::after {align-self: flex-start;width: 50%;}#sk-container-id-1 div.sk-parallel-item:only-child::after {width: 0;}#sk-container-id-1 div.sk-dashed-wrapped {border: 1px dashed gray;margin: 0 0.4em 0.5em 0.4em;box-sizing: border-box;padding-bottom: 0.4em;background-color: white;}#sk-container-id-1 div.sk-label label {font-family: monospace;font-weight: bold;display: inline-block;line-height: 1.2em;}#sk-container-id-1 div.sk-label-container {text-align: center;}#sk-container-id-1 div.sk-container {/* jupyter's `normalize.less` sets `[hidden] { display: none; }` but bootstrap.min.css set `[hidden] { display: none !important; }` so we also need the `!important` here to be able to override the default hidden behavior on the sphinx rendered scikit-learn.org. See: https://github.com/scikit-learn/scikit-learn/issues/21755 */display: inline-block !important;position: relative;}#sk-container-id-1 div.sk-text-repr-fallback {display: none;}</style><div id=\"sk-container-id-1\" class=\"sk-top-container\"><div class=\"sk-text-repr-fallback\"><pre>OneHotEncoder(handle_unknown=&#x27;ignore&#x27;, sparse=False, sparse_output=False)</pre><b>In a Jupyter environment, please rerun this cell to show the HTML representation or trust the notebook. <br />On GitHub, the HTML representation is unable to render, please try loading this page with nbviewer.org.</b></div><div class=\"sk-container\" hidden><div class=\"sk-item\"><div class=\"sk-estimator sk-toggleable\"><input class=\"sk-toggleable__control sk-hidden--visually\" id=\"sk-estimator-id-1\" type=\"checkbox\" checked><label for=\"sk-estimator-id-1\" class=\"sk-toggleable__label sk-toggleable__label-arrow\">OneHotEncoder</label><div class=\"sk-toggleable__content\"><pre>OneHotEncoder(handle_unknown=&#x27;ignore&#x27;, sparse=False, sparse_output=False)</pre></div></div></div></div></div>"
      ],
      "text/plain": [
       "OneHotEncoder(handle_unknown='ignore', sparse=False, sparse_output=False)"
      ]
     },
     "execution_count": 12,
     "metadata": {},
     "output_type": "execute_result"
    }
   ],
   "source": [
    "from sklearn.preprocessing import OneHotEncoder\n",
    "encoder = OneHotEncoder(handle_unknown='ignore',sparse=False)\n",
    "encoder.fit(df_train[columns_categorical]) # finds new column names(all categories)"
   ]
  },
  {
   "cell_type": "code",
   "execution_count": 13,
   "id": "9df01b03",
   "metadata": {},
   "outputs": [],
   "source": [
    "new_columns = list(encoder.get_feature_names_out())"
   ]
  },
  {
   "cell_type": "code",
   "execution_count": 14,
   "id": "723506b6",
   "metadata": {},
   "outputs": [
    {
     "data": {
      "text/plain": [
       "252"
      ]
     },
     "execution_count": 14,
     "metadata": {},
     "output_type": "execute_result"
    }
   ],
   "source": [
    "len(new_columns)"
   ]
  },
  {
   "cell_type": "code",
   "execution_count": 15,
   "id": "b8a11dd2",
   "metadata": {
    "scrolled": false
   },
   "outputs": [
    {
     "name": "stderr",
     "output_type": "stream",
     "text": [
      "C:\\Users\\HP\\AppData\\Local\\Temp\\ipykernel_14180\\1602800353.py:1: PerformanceWarning: DataFrame is highly fragmented.  This is usually the result of calling `frame.insert` many times, which has poor performance.  Consider joining all columns at once using pd.concat(axis=1) instead. To get a de-fragmented frame, use `newframe = frame.copy()`\n",
      "  df_train[new_columns] = encoder.transform(df_train[columns_categorical])\n",
      "C:\\Users\\HP\\AppData\\Local\\Temp\\ipykernel_14180\\1602800353.py:1: PerformanceWarning: DataFrame is highly fragmented.  This is usually the result of calling `frame.insert` many times, which has poor performance.  Consider joining all columns at once using pd.concat(axis=1) instead. To get a de-fragmented frame, use `newframe = frame.copy()`\n",
      "  df_train[new_columns] = encoder.transform(df_train[columns_categorical])\n",
      "C:\\Users\\HP\\AppData\\Local\\Temp\\ipykernel_14180\\1602800353.py:1: PerformanceWarning: DataFrame is highly fragmented.  This is usually the result of calling `frame.insert` many times, which has poor performance.  Consider joining all columns at once using pd.concat(axis=1) instead. To get a de-fragmented frame, use `newframe = frame.copy()`\n",
      "  df_train[new_columns] = encoder.transform(df_train[columns_categorical])\n",
      "C:\\Users\\HP\\AppData\\Local\\Temp\\ipykernel_14180\\1602800353.py:1: PerformanceWarning: DataFrame is highly fragmented.  This is usually the result of calling `frame.insert` many times, which has poor performance.  Consider joining all columns at once using pd.concat(axis=1) instead. To get a de-fragmented frame, use `newframe = frame.copy()`\n",
      "  df_train[new_columns] = encoder.transform(df_train[columns_categorical])\n",
      "C:\\Users\\HP\\AppData\\Local\\Temp\\ipykernel_14180\\1602800353.py:1: PerformanceWarning: DataFrame is highly fragmented.  This is usually the result of calling `frame.insert` many times, which has poor performance.  Consider joining all columns at once using pd.concat(axis=1) instead. To get a de-fragmented frame, use `newframe = frame.copy()`\n",
      "  df_train[new_columns] = encoder.transform(df_train[columns_categorical])\n",
      "C:\\Users\\HP\\AppData\\Local\\Temp\\ipykernel_14180\\1602800353.py:1: PerformanceWarning: DataFrame is highly fragmented.  This is usually the result of calling `frame.insert` many times, which has poor performance.  Consider joining all columns at once using pd.concat(axis=1) instead. To get a de-fragmented frame, use `newframe = frame.copy()`\n",
      "  df_train[new_columns] = encoder.transform(df_train[columns_categorical])\n",
      "C:\\Users\\HP\\AppData\\Local\\Temp\\ipykernel_14180\\1602800353.py:1: PerformanceWarning: DataFrame is highly fragmented.  This is usually the result of calling `frame.insert` many times, which has poor performance.  Consider joining all columns at once using pd.concat(axis=1) instead. To get a de-fragmented frame, use `newframe = frame.copy()`\n",
      "  df_train[new_columns] = encoder.transform(df_train[columns_categorical])\n",
      "C:\\Users\\HP\\AppData\\Local\\Temp\\ipykernel_14180\\1602800353.py:1: PerformanceWarning: DataFrame is highly fragmented.  This is usually the result of calling `frame.insert` many times, which has poor performance.  Consider joining all columns at once using pd.concat(axis=1) instead. To get a de-fragmented frame, use `newframe = frame.copy()`\n",
      "  df_train[new_columns] = encoder.transform(df_train[columns_categorical])\n",
      "C:\\Users\\HP\\AppData\\Local\\Temp\\ipykernel_14180\\1602800353.py:1: PerformanceWarning: DataFrame is highly fragmented.  This is usually the result of calling `frame.insert` many times, which has poor performance.  Consider joining all columns at once using pd.concat(axis=1) instead. To get a de-fragmented frame, use `newframe = frame.copy()`\n",
      "  df_train[new_columns] = encoder.transform(df_train[columns_categorical])\n",
      "C:\\Users\\HP\\AppData\\Local\\Temp\\ipykernel_14180\\1602800353.py:1: PerformanceWarning: DataFrame is highly fragmented.  This is usually the result of calling `frame.insert` many times, which has poor performance.  Consider joining all columns at once using pd.concat(axis=1) instead. To get a de-fragmented frame, use `newframe = frame.copy()`\n",
      "  df_train[new_columns] = encoder.transform(df_train[columns_categorical])\n",
      "C:\\Users\\HP\\AppData\\Local\\Temp\\ipykernel_14180\\1602800353.py:1: PerformanceWarning: DataFrame is highly fragmented.  This is usually the result of calling `frame.insert` many times, which has poor performance.  Consider joining all columns at once using pd.concat(axis=1) instead. To get a de-fragmented frame, use `newframe = frame.copy()`\n",
      "  df_train[new_columns] = encoder.transform(df_train[columns_categorical])\n",
      "C:\\Users\\HP\\AppData\\Local\\Temp\\ipykernel_14180\\1602800353.py:1: PerformanceWarning: DataFrame is highly fragmented.  This is usually the result of calling `frame.insert` many times, which has poor performance.  Consider joining all columns at once using pd.concat(axis=1) instead. To get a de-fragmented frame, use `newframe = frame.copy()`\n",
      "  df_train[new_columns] = encoder.transform(df_train[columns_categorical])\n",
      "C:\\Users\\HP\\AppData\\Local\\Temp\\ipykernel_14180\\1602800353.py:1: PerformanceWarning: DataFrame is highly fragmented.  This is usually the result of calling `frame.insert` many times, which has poor performance.  Consider joining all columns at once using pd.concat(axis=1) instead. To get a de-fragmented frame, use `newframe = frame.copy()`\n",
      "  df_train[new_columns] = encoder.transform(df_train[columns_categorical])\n",
      "C:\\Users\\HP\\AppData\\Local\\Temp\\ipykernel_14180\\1602800353.py:1: PerformanceWarning: DataFrame is highly fragmented.  This is usually the result of calling `frame.insert` many times, which has poor performance.  Consider joining all columns at once using pd.concat(axis=1) instead. To get a de-fragmented frame, use `newframe = frame.copy()`\n",
      "  df_train[new_columns] = encoder.transform(df_train[columns_categorical])\n",
      "C:\\Users\\HP\\AppData\\Local\\Temp\\ipykernel_14180\\1602800353.py:1: PerformanceWarning: DataFrame is highly fragmented.  This is usually the result of calling `frame.insert` many times, which has poor performance.  Consider joining all columns at once using pd.concat(axis=1) instead. To get a de-fragmented frame, use `newframe = frame.copy()`\n",
      "  df_train[new_columns] = encoder.transform(df_train[columns_categorical])\n",
      "C:\\Users\\HP\\AppData\\Local\\Temp\\ipykernel_14180\\1602800353.py:1: PerformanceWarning: DataFrame is highly fragmented.  This is usually the result of calling `frame.insert` many times, which has poor performance.  Consider joining all columns at once using pd.concat(axis=1) instead. To get a de-fragmented frame, use `newframe = frame.copy()`\n",
      "  df_train[new_columns] = encoder.transform(df_train[columns_categorical])\n",
      "C:\\Users\\HP\\AppData\\Local\\Temp\\ipykernel_14180\\1602800353.py:1: PerformanceWarning: DataFrame is highly fragmented.  This is usually the result of calling `frame.insert` many times, which has poor performance.  Consider joining all columns at once using pd.concat(axis=1) instead. To get a de-fragmented frame, use `newframe = frame.copy()`\n",
      "  df_train[new_columns] = encoder.transform(df_train[columns_categorical])\n",
      "C:\\Users\\HP\\AppData\\Local\\Temp\\ipykernel_14180\\1602800353.py:1: PerformanceWarning: DataFrame is highly fragmented.  This is usually the result of calling `frame.insert` many times, which has poor performance.  Consider joining all columns at once using pd.concat(axis=1) instead. To get a de-fragmented frame, use `newframe = frame.copy()`\n",
      "  df_train[new_columns] = encoder.transform(df_train[columns_categorical])\n",
      "C:\\Users\\HP\\AppData\\Local\\Temp\\ipykernel_14180\\1602800353.py:1: PerformanceWarning: DataFrame is highly fragmented.  This is usually the result of calling `frame.insert` many times, which has poor performance.  Consider joining all columns at once using pd.concat(axis=1) instead. To get a de-fragmented frame, use `newframe = frame.copy()`\n",
      "  df_train[new_columns] = encoder.transform(df_train[columns_categorical])\n",
      "C:\\Users\\HP\\AppData\\Local\\Temp\\ipykernel_14180\\1602800353.py:1: PerformanceWarning: DataFrame is highly fragmented.  This is usually the result of calling `frame.insert` many times, which has poor performance.  Consider joining all columns at once using pd.concat(axis=1) instead. To get a de-fragmented frame, use `newframe = frame.copy()`\n",
      "  df_train[new_columns] = encoder.transform(df_train[columns_categorical])\n",
      "C:\\Users\\HP\\AppData\\Local\\Temp\\ipykernel_14180\\1602800353.py:1: PerformanceWarning: DataFrame is highly fragmented.  This is usually the result of calling `frame.insert` many times, which has poor performance.  Consider joining all columns at once using pd.concat(axis=1) instead. To get a de-fragmented frame, use `newframe = frame.copy()`\n",
      "  df_train[new_columns] = encoder.transform(df_train[columns_categorical])\n",
      "C:\\Users\\HP\\AppData\\Local\\Temp\\ipykernel_14180\\1602800353.py:1: PerformanceWarning: DataFrame is highly fragmented.  This is usually the result of calling `frame.insert` many times, which has poor performance.  Consider joining all columns at once using pd.concat(axis=1) instead. To get a de-fragmented frame, use `newframe = frame.copy()`\n",
      "  df_train[new_columns] = encoder.transform(df_train[columns_categorical])\n",
      "C:\\Users\\HP\\AppData\\Local\\Temp\\ipykernel_14180\\1602800353.py:1: PerformanceWarning: DataFrame is highly fragmented.  This is usually the result of calling `frame.insert` many times, which has poor performance.  Consider joining all columns at once using pd.concat(axis=1) instead. To get a de-fragmented frame, use `newframe = frame.copy()`\n",
      "  df_train[new_columns] = encoder.transform(df_train[columns_categorical])\n",
      "C:\\Users\\HP\\AppData\\Local\\Temp\\ipykernel_14180\\1602800353.py:1: PerformanceWarning: DataFrame is highly fragmented.  This is usually the result of calling `frame.insert` many times, which has poor performance.  Consider joining all columns at once using pd.concat(axis=1) instead. To get a de-fragmented frame, use `newframe = frame.copy()`\n",
      "  df_train[new_columns] = encoder.transform(df_train[columns_categorical])\n",
      "C:\\Users\\HP\\AppData\\Local\\Temp\\ipykernel_14180\\1602800353.py:1: PerformanceWarning: DataFrame is highly fragmented.  This is usually the result of calling `frame.insert` many times, which has poor performance.  Consider joining all columns at once using pd.concat(axis=1) instead. To get a de-fragmented frame, use `newframe = frame.copy()`\n",
      "  df_train[new_columns] = encoder.transform(df_train[columns_categorical])\n",
      "C:\\Users\\HP\\AppData\\Local\\Temp\\ipykernel_14180\\1602800353.py:1: PerformanceWarning: DataFrame is highly fragmented.  This is usually the result of calling `frame.insert` many times, which has poor performance.  Consider joining all columns at once using pd.concat(axis=1) instead. To get a de-fragmented frame, use `newframe = frame.copy()`\n",
      "  df_train[new_columns] = encoder.transform(df_train[columns_categorical])\n",
      "C:\\Users\\HP\\AppData\\Local\\Temp\\ipykernel_14180\\1602800353.py:1: PerformanceWarning: DataFrame is highly fragmented.  This is usually the result of calling `frame.insert` many times, which has poor performance.  Consider joining all columns at once using pd.concat(axis=1) instead. To get a de-fragmented frame, use `newframe = frame.copy()`\n",
      "  df_train[new_columns] = encoder.transform(df_train[columns_categorical])\n",
      "C:\\Users\\HP\\AppData\\Local\\Temp\\ipykernel_14180\\1602800353.py:1: PerformanceWarning: DataFrame is highly fragmented.  This is usually the result of calling `frame.insert` many times, which has poor performance.  Consider joining all columns at once using pd.concat(axis=1) instead. To get a de-fragmented frame, use `newframe = frame.copy()`\n",
      "  df_train[new_columns] = encoder.transform(df_train[columns_categorical])\n",
      "C:\\Users\\HP\\AppData\\Local\\Temp\\ipykernel_14180\\1602800353.py:1: PerformanceWarning: DataFrame is highly fragmented.  This is usually the result of calling `frame.insert` many times, which has poor performance.  Consider joining all columns at once using pd.concat(axis=1) instead. To get a de-fragmented frame, use `newframe = frame.copy()`\n",
      "  df_train[new_columns] = encoder.transform(df_train[columns_categorical])\n",
      "C:\\Users\\HP\\AppData\\Local\\Temp\\ipykernel_14180\\1602800353.py:1: PerformanceWarning: DataFrame is highly fragmented.  This is usually the result of calling `frame.insert` many times, which has poor performance.  Consider joining all columns at once using pd.concat(axis=1) instead. To get a de-fragmented frame, use `newframe = frame.copy()`\n",
      "  df_train[new_columns] = encoder.transform(df_train[columns_categorical])\n",
      "C:\\Users\\HP\\AppData\\Local\\Temp\\ipykernel_14180\\1602800353.py:1: PerformanceWarning: DataFrame is highly fragmented.  This is usually the result of calling `frame.insert` many times, which has poor performance.  Consider joining all columns at once using pd.concat(axis=1) instead. To get a de-fragmented frame, use `newframe = frame.copy()`\n",
      "  df_train[new_columns] = encoder.transform(df_train[columns_categorical])\n",
      "C:\\Users\\HP\\AppData\\Local\\Temp\\ipykernel_14180\\1602800353.py:1: PerformanceWarning: DataFrame is highly fragmented.  This is usually the result of calling `frame.insert` many times, which has poor performance.  Consider joining all columns at once using pd.concat(axis=1) instead. To get a de-fragmented frame, use `newframe = frame.copy()`\n",
      "  df_train[new_columns] = encoder.transform(df_train[columns_categorical])\n",
      "C:\\Users\\HP\\AppData\\Local\\Temp\\ipykernel_14180\\1602800353.py:1: PerformanceWarning: DataFrame is highly fragmented.  This is usually the result of calling `frame.insert` many times, which has poor performance.  Consider joining all columns at once using pd.concat(axis=1) instead. To get a de-fragmented frame, use `newframe = frame.copy()`\n",
      "  df_train[new_columns] = encoder.transform(df_train[columns_categorical])\n",
      "C:\\Users\\HP\\AppData\\Local\\Temp\\ipykernel_14180\\1602800353.py:1: PerformanceWarning: DataFrame is highly fragmented.  This is usually the result of calling `frame.insert` many times, which has poor performance.  Consider joining all columns at once using pd.concat(axis=1) instead. To get a de-fragmented frame, use `newframe = frame.copy()`\n",
      "  df_train[new_columns] = encoder.transform(df_train[columns_categorical])\n",
      "C:\\Users\\HP\\AppData\\Local\\Temp\\ipykernel_14180\\1602800353.py:1: PerformanceWarning: DataFrame is highly fragmented.  This is usually the result of calling `frame.insert` many times, which has poor performance.  Consider joining all columns at once using pd.concat(axis=1) instead. To get a de-fragmented frame, use `newframe = frame.copy()`\n",
      "  df_train[new_columns] = encoder.transform(df_train[columns_categorical])\n",
      "C:\\Users\\HP\\AppData\\Local\\Temp\\ipykernel_14180\\1602800353.py:1: PerformanceWarning: DataFrame is highly fragmented.  This is usually the result of calling `frame.insert` many times, which has poor performance.  Consider joining all columns at once using pd.concat(axis=1) instead. To get a de-fragmented frame, use `newframe = frame.copy()`\n",
      "  df_train[new_columns] = encoder.transform(df_train[columns_categorical])\n",
      "C:\\Users\\HP\\AppData\\Local\\Temp\\ipykernel_14180\\1602800353.py:1: PerformanceWarning: DataFrame is highly fragmented.  This is usually the result of calling `frame.insert` many times, which has poor performance.  Consider joining all columns at once using pd.concat(axis=1) instead. To get a de-fragmented frame, use `newframe = frame.copy()`\n",
      "  df_train[new_columns] = encoder.transform(df_train[columns_categorical])\n",
      "C:\\Users\\HP\\AppData\\Local\\Temp\\ipykernel_14180\\1602800353.py:1: PerformanceWarning: DataFrame is highly fragmented.  This is usually the result of calling `frame.insert` many times, which has poor performance.  Consider joining all columns at once using pd.concat(axis=1) instead. To get a de-fragmented frame, use `newframe = frame.copy()`\n",
      "  df_train[new_columns] = encoder.transform(df_train[columns_categorical])\n",
      "C:\\Users\\HP\\AppData\\Local\\Temp\\ipykernel_14180\\1602800353.py:1: PerformanceWarning: DataFrame is highly fragmented.  This is usually the result of calling `frame.insert` many times, which has poor performance.  Consider joining all columns at once using pd.concat(axis=1) instead. To get a de-fragmented frame, use `newframe = frame.copy()`\n",
      "  df_train[new_columns] = encoder.transform(df_train[columns_categorical])\n",
      "C:\\Users\\HP\\AppData\\Local\\Temp\\ipykernel_14180\\1602800353.py:1: PerformanceWarning: DataFrame is highly fragmented.  This is usually the result of calling `frame.insert` many times, which has poor performance.  Consider joining all columns at once using pd.concat(axis=1) instead. To get a de-fragmented frame, use `newframe = frame.copy()`\n",
      "  df_train[new_columns] = encoder.transform(df_train[columns_categorical])\n",
      "C:\\Users\\HP\\AppData\\Local\\Temp\\ipykernel_14180\\1602800353.py:1: PerformanceWarning: DataFrame is highly fragmented.  This is usually the result of calling `frame.insert` many times, which has poor performance.  Consider joining all columns at once using pd.concat(axis=1) instead. To get a de-fragmented frame, use `newframe = frame.copy()`\n",
      "  df_train[new_columns] = encoder.transform(df_train[columns_categorical])\n",
      "C:\\Users\\HP\\AppData\\Local\\Temp\\ipykernel_14180\\1602800353.py:1: PerformanceWarning: DataFrame is highly fragmented.  This is usually the result of calling `frame.insert` many times, which has poor performance.  Consider joining all columns at once using pd.concat(axis=1) instead. To get a de-fragmented frame, use `newframe = frame.copy()`\n",
      "  df_train[new_columns] = encoder.transform(df_train[columns_categorical])\n",
      "C:\\Users\\HP\\AppData\\Local\\Temp\\ipykernel_14180\\1602800353.py:1: PerformanceWarning: DataFrame is highly fragmented.  This is usually the result of calling `frame.insert` many times, which has poor performance.  Consider joining all columns at once using pd.concat(axis=1) instead. To get a de-fragmented frame, use `newframe = frame.copy()`\n",
      "  df_train[new_columns] = encoder.transform(df_train[columns_categorical])\n",
      "C:\\Users\\HP\\AppData\\Local\\Temp\\ipykernel_14180\\1602800353.py:1: PerformanceWarning: DataFrame is highly fragmented.  This is usually the result of calling `frame.insert` many times, which has poor performance.  Consider joining all columns at once using pd.concat(axis=1) instead. To get a de-fragmented frame, use `newframe = frame.copy()`\n",
      "  df_train[new_columns] = encoder.transform(df_train[columns_categorical])\n",
      "C:\\Users\\HP\\AppData\\Local\\Temp\\ipykernel_14180\\1602800353.py:1: PerformanceWarning: DataFrame is highly fragmented.  This is usually the result of calling `frame.insert` many times, which has poor performance.  Consider joining all columns at once using pd.concat(axis=1) instead. To get a de-fragmented frame, use `newframe = frame.copy()`\n",
      "  df_train[new_columns] = encoder.transform(df_train[columns_categorical])\n",
      "C:\\Users\\HP\\AppData\\Local\\Temp\\ipykernel_14180\\1602800353.py:1: PerformanceWarning: DataFrame is highly fragmented.  This is usually the result of calling `frame.insert` many times, which has poor performance.  Consider joining all columns at once using pd.concat(axis=1) instead. To get a de-fragmented frame, use `newframe = frame.copy()`\n",
      "  df_train[new_columns] = encoder.transform(df_train[columns_categorical])\n",
      "C:\\Users\\HP\\AppData\\Local\\Temp\\ipykernel_14180\\1602800353.py:1: PerformanceWarning: DataFrame is highly fragmented.  This is usually the result of calling `frame.insert` many times, which has poor performance.  Consider joining all columns at once using pd.concat(axis=1) instead. To get a de-fragmented frame, use `newframe = frame.copy()`\n",
      "  df_train[new_columns] = encoder.transform(df_train[columns_categorical])\n",
      "C:\\Users\\HP\\AppData\\Local\\Temp\\ipykernel_14180\\1602800353.py:1: PerformanceWarning: DataFrame is highly fragmented.  This is usually the result of calling `frame.insert` many times, which has poor performance.  Consider joining all columns at once using pd.concat(axis=1) instead. To get a de-fragmented frame, use `newframe = frame.copy()`\n",
      "  df_train[new_columns] = encoder.transform(df_train[columns_categorical])\n",
      "C:\\Users\\HP\\AppData\\Local\\Temp\\ipykernel_14180\\1602800353.py:1: PerformanceWarning: DataFrame is highly fragmented.  This is usually the result of calling `frame.insert` many times, which has poor performance.  Consider joining all columns at once using pd.concat(axis=1) instead. To get a de-fragmented frame, use `newframe = frame.copy()`\n",
      "  df_train[new_columns] = encoder.transform(df_train[columns_categorical])\n",
      "C:\\Users\\HP\\AppData\\Local\\Temp\\ipykernel_14180\\1602800353.py:1: PerformanceWarning: DataFrame is highly fragmented.  This is usually the result of calling `frame.insert` many times, which has poor performance.  Consider joining all columns at once using pd.concat(axis=1) instead. To get a de-fragmented frame, use `newframe = frame.copy()`\n",
      "  df_train[new_columns] = encoder.transform(df_train[columns_categorical])\n",
      "C:\\Users\\HP\\AppData\\Local\\Temp\\ipykernel_14180\\1602800353.py:1: PerformanceWarning: DataFrame is highly fragmented.  This is usually the result of calling `frame.insert` many times, which has poor performance.  Consider joining all columns at once using pd.concat(axis=1) instead. To get a de-fragmented frame, use `newframe = frame.copy()`\n",
      "  df_train[new_columns] = encoder.transform(df_train[columns_categorical])\n",
      "C:\\Users\\HP\\AppData\\Local\\Temp\\ipykernel_14180\\1602800353.py:1: PerformanceWarning: DataFrame is highly fragmented.  This is usually the result of calling `frame.insert` many times, which has poor performance.  Consider joining all columns at once using pd.concat(axis=1) instead. To get a de-fragmented frame, use `newframe = frame.copy()`\n",
      "  df_train[new_columns] = encoder.transform(df_train[columns_categorical])\n",
      "C:\\Users\\HP\\AppData\\Local\\Temp\\ipykernel_14180\\1602800353.py:1: PerformanceWarning: DataFrame is highly fragmented.  This is usually the result of calling `frame.insert` many times, which has poor performance.  Consider joining all columns at once using pd.concat(axis=1) instead. To get a de-fragmented frame, use `newframe = frame.copy()`\n",
      "  df_train[new_columns] = encoder.transform(df_train[columns_categorical])\n",
      "C:\\Users\\HP\\AppData\\Local\\Temp\\ipykernel_14180\\1602800353.py:1: PerformanceWarning: DataFrame is highly fragmented.  This is usually the result of calling `frame.insert` many times, which has poor performance.  Consider joining all columns at once using pd.concat(axis=1) instead. To get a de-fragmented frame, use `newframe = frame.copy()`\n",
      "  df_train[new_columns] = encoder.transform(df_train[columns_categorical])\n",
      "C:\\Users\\HP\\AppData\\Local\\Temp\\ipykernel_14180\\1602800353.py:1: PerformanceWarning: DataFrame is highly fragmented.  This is usually the result of calling `frame.insert` many times, which has poor performance.  Consider joining all columns at once using pd.concat(axis=1) instead. To get a de-fragmented frame, use `newframe = frame.copy()`\n",
      "  df_train[new_columns] = encoder.transform(df_train[columns_categorical])\n",
      "C:\\Users\\HP\\AppData\\Local\\Temp\\ipykernel_14180\\1602800353.py:1: PerformanceWarning: DataFrame is highly fragmented.  This is usually the result of calling `frame.insert` many times, which has poor performance.  Consider joining all columns at once using pd.concat(axis=1) instead. To get a de-fragmented frame, use `newframe = frame.copy()`\n",
      "  df_train[new_columns] = encoder.transform(df_train[columns_categorical])\n",
      "C:\\Users\\HP\\AppData\\Local\\Temp\\ipykernel_14180\\1602800353.py:1: PerformanceWarning: DataFrame is highly fragmented.  This is usually the result of calling `frame.insert` many times, which has poor performance.  Consider joining all columns at once using pd.concat(axis=1) instead. To get a de-fragmented frame, use `newframe = frame.copy()`\n",
      "  df_train[new_columns] = encoder.transform(df_train[columns_categorical])\n",
      "C:\\Users\\HP\\AppData\\Local\\Temp\\ipykernel_14180\\1602800353.py:1: PerformanceWarning: DataFrame is highly fragmented.  This is usually the result of calling `frame.insert` many times, which has poor performance.  Consider joining all columns at once using pd.concat(axis=1) instead. To get a de-fragmented frame, use `newframe = frame.copy()`\n",
      "  df_train[new_columns] = encoder.transform(df_train[columns_categorical])\n",
      "C:\\Users\\HP\\AppData\\Local\\Temp\\ipykernel_14180\\1602800353.py:1: PerformanceWarning: DataFrame is highly fragmented.  This is usually the result of calling `frame.insert` many times, which has poor performance.  Consider joining all columns at once using pd.concat(axis=1) instead. To get a de-fragmented frame, use `newframe = frame.copy()`\n",
      "  df_train[new_columns] = encoder.transform(df_train[columns_categorical])\n",
      "C:\\Users\\HP\\AppData\\Local\\Temp\\ipykernel_14180\\1602800353.py:1: PerformanceWarning: DataFrame is highly fragmented.  This is usually the result of calling `frame.insert` many times, which has poor performance.  Consider joining all columns at once using pd.concat(axis=1) instead. To get a de-fragmented frame, use `newframe = frame.copy()`\n",
      "  df_train[new_columns] = encoder.transform(df_train[columns_categorical])\n",
      "C:\\Users\\HP\\AppData\\Local\\Temp\\ipykernel_14180\\1602800353.py:1: PerformanceWarning: DataFrame is highly fragmented.  This is usually the result of calling `frame.insert` many times, which has poor performance.  Consider joining all columns at once using pd.concat(axis=1) instead. To get a de-fragmented frame, use `newframe = frame.copy()`\n",
      "  df_train[new_columns] = encoder.transform(df_train[columns_categorical])\n",
      "C:\\Users\\HP\\AppData\\Local\\Temp\\ipykernel_14180\\1602800353.py:1: PerformanceWarning: DataFrame is highly fragmented.  This is usually the result of calling `frame.insert` many times, which has poor performance.  Consider joining all columns at once using pd.concat(axis=1) instead. To get a de-fragmented frame, use `newframe = frame.copy()`\n",
      "  df_train[new_columns] = encoder.transform(df_train[columns_categorical])\n",
      "C:\\Users\\HP\\AppData\\Local\\Temp\\ipykernel_14180\\1602800353.py:1: PerformanceWarning: DataFrame is highly fragmented.  This is usually the result of calling `frame.insert` many times, which has poor performance.  Consider joining all columns at once using pd.concat(axis=1) instead. To get a de-fragmented frame, use `newframe = frame.copy()`\n",
      "  df_train[new_columns] = encoder.transform(df_train[columns_categorical])\n",
      "C:\\Users\\HP\\AppData\\Local\\Temp\\ipykernel_14180\\1602800353.py:1: PerformanceWarning: DataFrame is highly fragmented.  This is usually the result of calling `frame.insert` many times, which has poor performance.  Consider joining all columns at once using pd.concat(axis=1) instead. To get a de-fragmented frame, use `newframe = frame.copy()`\n",
      "  df_train[new_columns] = encoder.transform(df_train[columns_categorical])\n",
      "C:\\Users\\HP\\AppData\\Local\\Temp\\ipykernel_14180\\1602800353.py:1: PerformanceWarning: DataFrame is highly fragmented.  This is usually the result of calling `frame.insert` many times, which has poor performance.  Consider joining all columns at once using pd.concat(axis=1) instead. To get a de-fragmented frame, use `newframe = frame.copy()`\n",
      "  df_train[new_columns] = encoder.transform(df_train[columns_categorical])\n",
      "C:\\Users\\HP\\AppData\\Local\\Temp\\ipykernel_14180\\1602800353.py:1: PerformanceWarning: DataFrame is highly fragmented.  This is usually the result of calling `frame.insert` many times, which has poor performance.  Consider joining all columns at once using pd.concat(axis=1) instead. To get a de-fragmented frame, use `newframe = frame.copy()`\n",
      "  df_train[new_columns] = encoder.transform(df_train[columns_categorical])\n",
      "C:\\Users\\HP\\AppData\\Local\\Temp\\ipykernel_14180\\1602800353.py:1: PerformanceWarning: DataFrame is highly fragmented.  This is usually the result of calling `frame.insert` many times, which has poor performance.  Consider joining all columns at once using pd.concat(axis=1) instead. To get a de-fragmented frame, use `newframe = frame.copy()`\n",
      "  df_train[new_columns] = encoder.transform(df_train[columns_categorical])\n",
      "C:\\Users\\HP\\AppData\\Local\\Temp\\ipykernel_14180\\1602800353.py:1: PerformanceWarning: DataFrame is highly fragmented.  This is usually the result of calling `frame.insert` many times, which has poor performance.  Consider joining all columns at once using pd.concat(axis=1) instead. To get a de-fragmented frame, use `newframe = frame.copy()`\n",
      "  df_train[new_columns] = encoder.transform(df_train[columns_categorical])\n",
      "C:\\Users\\HP\\AppData\\Local\\Temp\\ipykernel_14180\\1602800353.py:1: PerformanceWarning: DataFrame is highly fragmented.  This is usually the result of calling `frame.insert` many times, which has poor performance.  Consider joining all columns at once using pd.concat(axis=1) instead. To get a de-fragmented frame, use `newframe = frame.copy()`\n",
      "  df_train[new_columns] = encoder.transform(df_train[columns_categorical])\n",
      "C:\\Users\\HP\\AppData\\Local\\Temp\\ipykernel_14180\\1602800353.py:1: PerformanceWarning: DataFrame is highly fragmented.  This is usually the result of calling `frame.insert` many times, which has poor performance.  Consider joining all columns at once using pd.concat(axis=1) instead. To get a de-fragmented frame, use `newframe = frame.copy()`\n",
      "  df_train[new_columns] = encoder.transform(df_train[columns_categorical])\n",
      "C:\\Users\\HP\\AppData\\Local\\Temp\\ipykernel_14180\\1602800353.py:1: PerformanceWarning: DataFrame is highly fragmented.  This is usually the result of calling `frame.insert` many times, which has poor performance.  Consider joining all columns at once using pd.concat(axis=1) instead. To get a de-fragmented frame, use `newframe = frame.copy()`\n",
      "  df_train[new_columns] = encoder.transform(df_train[columns_categorical])\n",
      "C:\\Users\\HP\\AppData\\Local\\Temp\\ipykernel_14180\\1602800353.py:1: PerformanceWarning: DataFrame is highly fragmented.  This is usually the result of calling `frame.insert` many times, which has poor performance.  Consider joining all columns at once using pd.concat(axis=1) instead. To get a de-fragmented frame, use `newframe = frame.copy()`\n",
      "  df_train[new_columns] = encoder.transform(df_train[columns_categorical])\n",
      "C:\\Users\\HP\\AppData\\Local\\Temp\\ipykernel_14180\\1602800353.py:1: PerformanceWarning: DataFrame is highly fragmented.  This is usually the result of calling `frame.insert` many times, which has poor performance.  Consider joining all columns at once using pd.concat(axis=1) instead. To get a de-fragmented frame, use `newframe = frame.copy()`\n",
      "  df_train[new_columns] = encoder.transform(df_train[columns_categorical])\n",
      "C:\\Users\\HP\\AppData\\Local\\Temp\\ipykernel_14180\\1602800353.py:1: PerformanceWarning: DataFrame is highly fragmented.  This is usually the result of calling `frame.insert` many times, which has poor performance.  Consider joining all columns at once using pd.concat(axis=1) instead. To get a de-fragmented frame, use `newframe = frame.copy()`\n",
      "  df_train[new_columns] = encoder.transform(df_train[columns_categorical])\n",
      "C:\\Users\\HP\\AppData\\Local\\Temp\\ipykernel_14180\\1602800353.py:1: PerformanceWarning: DataFrame is highly fragmented.  This is usually the result of calling `frame.insert` many times, which has poor performance.  Consider joining all columns at once using pd.concat(axis=1) instead. To get a de-fragmented frame, use `newframe = frame.copy()`\n",
      "  df_train[new_columns] = encoder.transform(df_train[columns_categorical])\n",
      "C:\\Users\\HP\\AppData\\Local\\Temp\\ipykernel_14180\\1602800353.py:1: PerformanceWarning: DataFrame is highly fragmented.  This is usually the result of calling `frame.insert` many times, which has poor performance.  Consider joining all columns at once using pd.concat(axis=1) instead. To get a de-fragmented frame, use `newframe = frame.copy()`\n",
      "  df_train[new_columns] = encoder.transform(df_train[columns_categorical])\n",
      "C:\\Users\\HP\\AppData\\Local\\Temp\\ipykernel_14180\\1602800353.py:1: PerformanceWarning: DataFrame is highly fragmented.  This is usually the result of calling `frame.insert` many times, which has poor performance.  Consider joining all columns at once using pd.concat(axis=1) instead. To get a de-fragmented frame, use `newframe = frame.copy()`\n",
      "  df_train[new_columns] = encoder.transform(df_train[columns_categorical])\n",
      "C:\\Users\\HP\\AppData\\Local\\Temp\\ipykernel_14180\\1602800353.py:1: PerformanceWarning: DataFrame is highly fragmented.  This is usually the result of calling `frame.insert` many times, which has poor performance.  Consider joining all columns at once using pd.concat(axis=1) instead. To get a de-fragmented frame, use `newframe = frame.copy()`\n",
      "  df_train[new_columns] = encoder.transform(df_train[columns_categorical])\n",
      "C:\\Users\\HP\\AppData\\Local\\Temp\\ipykernel_14180\\1602800353.py:1: PerformanceWarning: DataFrame is highly fragmented.  This is usually the result of calling `frame.insert` many times, which has poor performance.  Consider joining all columns at once using pd.concat(axis=1) instead. To get a de-fragmented frame, use `newframe = frame.copy()`\n",
      "  df_train[new_columns] = encoder.transform(df_train[columns_categorical])\n",
      "C:\\Users\\HP\\AppData\\Local\\Temp\\ipykernel_14180\\1602800353.py:1: PerformanceWarning: DataFrame is highly fragmented.  This is usually the result of calling `frame.insert` many times, which has poor performance.  Consider joining all columns at once using pd.concat(axis=1) instead. To get a de-fragmented frame, use `newframe = frame.copy()`\n",
      "  df_train[new_columns] = encoder.transform(df_train[columns_categorical])\n",
      "C:\\Users\\HP\\AppData\\Local\\Temp\\ipykernel_14180\\1602800353.py:1: PerformanceWarning: DataFrame is highly fragmented.  This is usually the result of calling `frame.insert` many times, which has poor performance.  Consider joining all columns at once using pd.concat(axis=1) instead. To get a de-fragmented frame, use `newframe = frame.copy()`\n",
      "  df_train[new_columns] = encoder.transform(df_train[columns_categorical])\n",
      "C:\\Users\\HP\\AppData\\Local\\Temp\\ipykernel_14180\\1602800353.py:1: PerformanceWarning: DataFrame is highly fragmented.  This is usually the result of calling `frame.insert` many times, which has poor performance.  Consider joining all columns at once using pd.concat(axis=1) instead. To get a de-fragmented frame, use `newframe = frame.copy()`\n",
      "  df_train[new_columns] = encoder.transform(df_train[columns_categorical])\n",
      "C:\\Users\\HP\\AppData\\Local\\Temp\\ipykernel_14180\\1602800353.py:1: PerformanceWarning: DataFrame is highly fragmented.  This is usually the result of calling `frame.insert` many times, which has poor performance.  Consider joining all columns at once using pd.concat(axis=1) instead. To get a de-fragmented frame, use `newframe = frame.copy()`\n",
      "  df_train[new_columns] = encoder.transform(df_train[columns_categorical])\n",
      "C:\\Users\\HP\\AppData\\Local\\Temp\\ipykernel_14180\\1602800353.py:1: PerformanceWarning: DataFrame is highly fragmented.  This is usually the result of calling `frame.insert` many times, which has poor performance.  Consider joining all columns at once using pd.concat(axis=1) instead. To get a de-fragmented frame, use `newframe = frame.copy()`\n",
      "  df_train[new_columns] = encoder.transform(df_train[columns_categorical])\n",
      "C:\\Users\\HP\\AppData\\Local\\Temp\\ipykernel_14180\\1602800353.py:1: PerformanceWarning: DataFrame is highly fragmented.  This is usually the result of calling `frame.insert` many times, which has poor performance.  Consider joining all columns at once using pd.concat(axis=1) instead. To get a de-fragmented frame, use `newframe = frame.copy()`\n",
      "  df_train[new_columns] = encoder.transform(df_train[columns_categorical])\n",
      "C:\\Users\\HP\\AppData\\Local\\Temp\\ipykernel_14180\\1602800353.py:1: PerformanceWarning: DataFrame is highly fragmented.  This is usually the result of calling `frame.insert` many times, which has poor performance.  Consider joining all columns at once using pd.concat(axis=1) instead. To get a de-fragmented frame, use `newframe = frame.copy()`\n",
      "  df_train[new_columns] = encoder.transform(df_train[columns_categorical])\n",
      "C:\\Users\\HP\\AppData\\Local\\Temp\\ipykernel_14180\\1602800353.py:1: PerformanceWarning: DataFrame is highly fragmented.  This is usually the result of calling `frame.insert` many times, which has poor performance.  Consider joining all columns at once using pd.concat(axis=1) instead. To get a de-fragmented frame, use `newframe = frame.copy()`\n",
      "  df_train[new_columns] = encoder.transform(df_train[columns_categorical])\n",
      "C:\\Users\\HP\\AppData\\Local\\Temp\\ipykernel_14180\\1602800353.py:1: PerformanceWarning: DataFrame is highly fragmented.  This is usually the result of calling `frame.insert` many times, which has poor performance.  Consider joining all columns at once using pd.concat(axis=1) instead. To get a de-fragmented frame, use `newframe = frame.copy()`\n",
      "  df_train[new_columns] = encoder.transform(df_train[columns_categorical])\n",
      "C:\\Users\\HP\\AppData\\Local\\Temp\\ipykernel_14180\\1602800353.py:1: PerformanceWarning: DataFrame is highly fragmented.  This is usually the result of calling `frame.insert` many times, which has poor performance.  Consider joining all columns at once using pd.concat(axis=1) instead. To get a de-fragmented frame, use `newframe = frame.copy()`\n",
      "  df_train[new_columns] = encoder.transform(df_train[columns_categorical])\n",
      "C:\\Users\\HP\\AppData\\Local\\Temp\\ipykernel_14180\\1602800353.py:1: PerformanceWarning: DataFrame is highly fragmented.  This is usually the result of calling `frame.insert` many times, which has poor performance.  Consider joining all columns at once using pd.concat(axis=1) instead. To get a de-fragmented frame, use `newframe = frame.copy()`\n",
      "  df_train[new_columns] = encoder.transform(df_train[columns_categorical])\n",
      "C:\\Users\\HP\\AppData\\Local\\Temp\\ipykernel_14180\\1602800353.py:1: PerformanceWarning: DataFrame is highly fragmented.  This is usually the result of calling `frame.insert` many times, which has poor performance.  Consider joining all columns at once using pd.concat(axis=1) instead. To get a de-fragmented frame, use `newframe = frame.copy()`\n",
      "  df_train[new_columns] = encoder.transform(df_train[columns_categorical])\n",
      "C:\\Users\\HP\\AppData\\Local\\Temp\\ipykernel_14180\\1602800353.py:1: PerformanceWarning: DataFrame is highly fragmented.  This is usually the result of calling `frame.insert` many times, which has poor performance.  Consider joining all columns at once using pd.concat(axis=1) instead. To get a de-fragmented frame, use `newframe = frame.copy()`\n",
      "  df_train[new_columns] = encoder.transform(df_train[columns_categorical])\n",
      "C:\\Users\\HP\\AppData\\Local\\Temp\\ipykernel_14180\\1602800353.py:1: PerformanceWarning: DataFrame is highly fragmented.  This is usually the result of calling `frame.insert` many times, which has poor performance.  Consider joining all columns at once using pd.concat(axis=1) instead. To get a de-fragmented frame, use `newframe = frame.copy()`\n",
      "  df_train[new_columns] = encoder.transform(df_train[columns_categorical])\n",
      "C:\\Users\\HP\\AppData\\Local\\Temp\\ipykernel_14180\\1602800353.py:1: PerformanceWarning: DataFrame is highly fragmented.  This is usually the result of calling `frame.insert` many times, which has poor performance.  Consider joining all columns at once using pd.concat(axis=1) instead. To get a de-fragmented frame, use `newframe = frame.copy()`\n",
      "  df_train[new_columns] = encoder.transform(df_train[columns_categorical])\n",
      "C:\\Users\\HP\\AppData\\Local\\Temp\\ipykernel_14180\\1602800353.py:1: PerformanceWarning: DataFrame is highly fragmented.  This is usually the result of calling `frame.insert` many times, which has poor performance.  Consider joining all columns at once using pd.concat(axis=1) instead. To get a de-fragmented frame, use `newframe = frame.copy()`\n",
      "  df_train[new_columns] = encoder.transform(df_train[columns_categorical])\n",
      "C:\\Users\\HP\\AppData\\Local\\Temp\\ipykernel_14180\\1602800353.py:1: PerformanceWarning: DataFrame is highly fragmented.  This is usually the result of calling `frame.insert` many times, which has poor performance.  Consider joining all columns at once using pd.concat(axis=1) instead. To get a de-fragmented frame, use `newframe = frame.copy()`\n",
      "  df_train[new_columns] = encoder.transform(df_train[columns_categorical])\n",
      "C:\\Users\\HP\\AppData\\Local\\Temp\\ipykernel_14180\\1602800353.py:1: PerformanceWarning: DataFrame is highly fragmented.  This is usually the result of calling `frame.insert` many times, which has poor performance.  Consider joining all columns at once using pd.concat(axis=1) instead. To get a de-fragmented frame, use `newframe = frame.copy()`\n",
      "  df_train[new_columns] = encoder.transform(df_train[columns_categorical])\n",
      "C:\\Users\\HP\\AppData\\Local\\Temp\\ipykernel_14180\\1602800353.py:1: PerformanceWarning: DataFrame is highly fragmented.  This is usually the result of calling `frame.insert` many times, which has poor performance.  Consider joining all columns at once using pd.concat(axis=1) instead. To get a de-fragmented frame, use `newframe = frame.copy()`\n",
      "  df_train[new_columns] = encoder.transform(df_train[columns_categorical])\n",
      "C:\\Users\\HP\\AppData\\Local\\Temp\\ipykernel_14180\\1602800353.py:1: PerformanceWarning: DataFrame is highly fragmented.  This is usually the result of calling `frame.insert` many times, which has poor performance.  Consider joining all columns at once using pd.concat(axis=1) instead. To get a de-fragmented frame, use `newframe = frame.copy()`\n",
      "  df_train[new_columns] = encoder.transform(df_train[columns_categorical])\n",
      "C:\\Users\\HP\\AppData\\Local\\Temp\\ipykernel_14180\\1602800353.py:1: PerformanceWarning: DataFrame is highly fragmented.  This is usually the result of calling `frame.insert` many times, which has poor performance.  Consider joining all columns at once using pd.concat(axis=1) instead. To get a de-fragmented frame, use `newframe = frame.copy()`\n",
      "  df_train[new_columns] = encoder.transform(df_train[columns_categorical])\n",
      "C:\\Users\\HP\\AppData\\Local\\Temp\\ipykernel_14180\\1602800353.py:1: PerformanceWarning: DataFrame is highly fragmented.  This is usually the result of calling `frame.insert` many times, which has poor performance.  Consider joining all columns at once using pd.concat(axis=1) instead. To get a de-fragmented frame, use `newframe = frame.copy()`\n",
      "  df_train[new_columns] = encoder.transform(df_train[columns_categorical])\n",
      "C:\\Users\\HP\\AppData\\Local\\Temp\\ipykernel_14180\\1602800353.py:1: PerformanceWarning: DataFrame is highly fragmented.  This is usually the result of calling `frame.insert` many times, which has poor performance.  Consider joining all columns at once using pd.concat(axis=1) instead. To get a de-fragmented frame, use `newframe = frame.copy()`\n",
      "  df_train[new_columns] = encoder.transform(df_train[columns_categorical])\n",
      "C:\\Users\\HP\\AppData\\Local\\Temp\\ipykernel_14180\\1602800353.py:1: PerformanceWarning: DataFrame is highly fragmented.  This is usually the result of calling `frame.insert` many times, which has poor performance.  Consider joining all columns at once using pd.concat(axis=1) instead. To get a de-fragmented frame, use `newframe = frame.copy()`\n",
      "  df_train[new_columns] = encoder.transform(df_train[columns_categorical])\n",
      "C:\\Users\\HP\\AppData\\Local\\Temp\\ipykernel_14180\\1602800353.py:1: PerformanceWarning: DataFrame is highly fragmented.  This is usually the result of calling `frame.insert` many times, which has poor performance.  Consider joining all columns at once using pd.concat(axis=1) instead. To get a de-fragmented frame, use `newframe = frame.copy()`\n",
      "  df_train[new_columns] = encoder.transform(df_train[columns_categorical])\n",
      "C:\\Users\\HP\\AppData\\Local\\Temp\\ipykernel_14180\\1602800353.py:1: PerformanceWarning: DataFrame is highly fragmented.  This is usually the result of calling `frame.insert` many times, which has poor performance.  Consider joining all columns at once using pd.concat(axis=1) instead. To get a de-fragmented frame, use `newframe = frame.copy()`\n",
      "  df_train[new_columns] = encoder.transform(df_train[columns_categorical])\n",
      "C:\\Users\\HP\\AppData\\Local\\Temp\\ipykernel_14180\\1602800353.py:1: PerformanceWarning: DataFrame is highly fragmented.  This is usually the result of calling `frame.insert` many times, which has poor performance.  Consider joining all columns at once using pd.concat(axis=1) instead. To get a de-fragmented frame, use `newframe = frame.copy()`\n",
      "  df_train[new_columns] = encoder.transform(df_train[columns_categorical])\n",
      "C:\\Users\\HP\\AppData\\Local\\Temp\\ipykernel_14180\\1602800353.py:1: PerformanceWarning: DataFrame is highly fragmented.  This is usually the result of calling `frame.insert` many times, which has poor performance.  Consider joining all columns at once using pd.concat(axis=1) instead. To get a de-fragmented frame, use `newframe = frame.copy()`\n",
      "  df_train[new_columns] = encoder.transform(df_train[columns_categorical])\n",
      "C:\\Users\\HP\\AppData\\Local\\Temp\\ipykernel_14180\\1602800353.py:1: PerformanceWarning: DataFrame is highly fragmented.  This is usually the result of calling `frame.insert` many times, which has poor performance.  Consider joining all columns at once using pd.concat(axis=1) instead. To get a de-fragmented frame, use `newframe = frame.copy()`\n",
      "  df_train[new_columns] = encoder.transform(df_train[columns_categorical])\n",
      "C:\\Users\\HP\\AppData\\Local\\Temp\\ipykernel_14180\\1602800353.py:1: PerformanceWarning: DataFrame is highly fragmented.  This is usually the result of calling `frame.insert` many times, which has poor performance.  Consider joining all columns at once using pd.concat(axis=1) instead. To get a de-fragmented frame, use `newframe = frame.copy()`\n",
      "  df_train[new_columns] = encoder.transform(df_train[columns_categorical])\n",
      "C:\\Users\\HP\\AppData\\Local\\Temp\\ipykernel_14180\\1602800353.py:1: PerformanceWarning: DataFrame is highly fragmented.  This is usually the result of calling `frame.insert` many times, which has poor performance.  Consider joining all columns at once using pd.concat(axis=1) instead. To get a de-fragmented frame, use `newframe = frame.copy()`\n",
      "  df_train[new_columns] = encoder.transform(df_train[columns_categorical])\n",
      "C:\\Users\\HP\\AppData\\Local\\Temp\\ipykernel_14180\\1602800353.py:1: PerformanceWarning: DataFrame is highly fragmented.  This is usually the result of calling `frame.insert` many times, which has poor performance.  Consider joining all columns at once using pd.concat(axis=1) instead. To get a de-fragmented frame, use `newframe = frame.copy()`\n",
      "  df_train[new_columns] = encoder.transform(df_train[columns_categorical])\n",
      "C:\\Users\\HP\\AppData\\Local\\Temp\\ipykernel_14180\\1602800353.py:1: PerformanceWarning: DataFrame is highly fragmented.  This is usually the result of calling `frame.insert` many times, which has poor performance.  Consider joining all columns at once using pd.concat(axis=1) instead. To get a de-fragmented frame, use `newframe = frame.copy()`\n",
      "  df_train[new_columns] = encoder.transform(df_train[columns_categorical])\n",
      "C:\\Users\\HP\\AppData\\Local\\Temp\\ipykernel_14180\\1602800353.py:1: PerformanceWarning: DataFrame is highly fragmented.  This is usually the result of calling `frame.insert` many times, which has poor performance.  Consider joining all columns at once using pd.concat(axis=1) instead. To get a de-fragmented frame, use `newframe = frame.copy()`\n",
      "  df_train[new_columns] = encoder.transform(df_train[columns_categorical])\n",
      "C:\\Users\\HP\\AppData\\Local\\Temp\\ipykernel_14180\\1602800353.py:1: PerformanceWarning: DataFrame is highly fragmented.  This is usually the result of calling `frame.insert` many times, which has poor performance.  Consider joining all columns at once using pd.concat(axis=1) instead. To get a de-fragmented frame, use `newframe = frame.copy()`\n",
      "  df_train[new_columns] = encoder.transform(df_train[columns_categorical])\n",
      "C:\\Users\\HP\\AppData\\Local\\Temp\\ipykernel_14180\\1602800353.py:1: PerformanceWarning: DataFrame is highly fragmented.  This is usually the result of calling `frame.insert` many times, which has poor performance.  Consider joining all columns at once using pd.concat(axis=1) instead. To get a de-fragmented frame, use `newframe = frame.copy()`\n",
      "  df_train[new_columns] = encoder.transform(df_train[columns_categorical])\n",
      "C:\\Users\\HP\\AppData\\Local\\Temp\\ipykernel_14180\\1602800353.py:1: PerformanceWarning: DataFrame is highly fragmented.  This is usually the result of calling `frame.insert` many times, which has poor performance.  Consider joining all columns at once using pd.concat(axis=1) instead. To get a de-fragmented frame, use `newframe = frame.copy()`\n",
      "  df_train[new_columns] = encoder.transform(df_train[columns_categorical])\n",
      "C:\\Users\\HP\\AppData\\Local\\Temp\\ipykernel_14180\\1602800353.py:1: PerformanceWarning: DataFrame is highly fragmented.  This is usually the result of calling `frame.insert` many times, which has poor performance.  Consider joining all columns at once using pd.concat(axis=1) instead. To get a de-fragmented frame, use `newframe = frame.copy()`\n",
      "  df_train[new_columns] = encoder.transform(df_train[columns_categorical])\n",
      "C:\\Users\\HP\\AppData\\Local\\Temp\\ipykernel_14180\\1602800353.py:1: PerformanceWarning: DataFrame is highly fragmented.  This is usually the result of calling `frame.insert` many times, which has poor performance.  Consider joining all columns at once using pd.concat(axis=1) instead. To get a de-fragmented frame, use `newframe = frame.copy()`\n",
      "  df_train[new_columns] = encoder.transform(df_train[columns_categorical])\n",
      "C:\\Users\\HP\\AppData\\Local\\Temp\\ipykernel_14180\\1602800353.py:1: PerformanceWarning: DataFrame is highly fragmented.  This is usually the result of calling `frame.insert` many times, which has poor performance.  Consider joining all columns at once using pd.concat(axis=1) instead. To get a de-fragmented frame, use `newframe = frame.copy()`\n",
      "  df_train[new_columns] = encoder.transform(df_train[columns_categorical])\n",
      "C:\\Users\\HP\\AppData\\Local\\Temp\\ipykernel_14180\\1602800353.py:1: PerformanceWarning: DataFrame is highly fragmented.  This is usually the result of calling `frame.insert` many times, which has poor performance.  Consider joining all columns at once using pd.concat(axis=1) instead. To get a de-fragmented frame, use `newframe = frame.copy()`\n",
      "  df_train[new_columns] = encoder.transform(df_train[columns_categorical])\n",
      "C:\\Users\\HP\\AppData\\Local\\Temp\\ipykernel_14180\\1602800353.py:1: PerformanceWarning: DataFrame is highly fragmented.  This is usually the result of calling `frame.insert` many times, which has poor performance.  Consider joining all columns at once using pd.concat(axis=1) instead. To get a de-fragmented frame, use `newframe = frame.copy()`\n",
      "  df_train[new_columns] = encoder.transform(df_train[columns_categorical])\n",
      "C:\\Users\\HP\\AppData\\Local\\Temp\\ipykernel_14180\\1602800353.py:1: PerformanceWarning: DataFrame is highly fragmented.  This is usually the result of calling `frame.insert` many times, which has poor performance.  Consider joining all columns at once using pd.concat(axis=1) instead. To get a de-fragmented frame, use `newframe = frame.copy()`\n",
      "  df_train[new_columns] = encoder.transform(df_train[columns_categorical])\n",
      "C:\\Users\\HP\\AppData\\Local\\Temp\\ipykernel_14180\\1602800353.py:1: PerformanceWarning: DataFrame is highly fragmented.  This is usually the result of calling `frame.insert` many times, which has poor performance.  Consider joining all columns at once using pd.concat(axis=1) instead. To get a de-fragmented frame, use `newframe = frame.copy()`\n",
      "  df_train[new_columns] = encoder.transform(df_train[columns_categorical])\n",
      "C:\\Users\\HP\\AppData\\Local\\Temp\\ipykernel_14180\\1602800353.py:1: PerformanceWarning: DataFrame is highly fragmented.  This is usually the result of calling `frame.insert` many times, which has poor performance.  Consider joining all columns at once using pd.concat(axis=1) instead. To get a de-fragmented frame, use `newframe = frame.copy()`\n",
      "  df_train[new_columns] = encoder.transform(df_train[columns_categorical])\n",
      "C:\\Users\\HP\\AppData\\Local\\Temp\\ipykernel_14180\\1602800353.py:1: PerformanceWarning: DataFrame is highly fragmented.  This is usually the result of calling `frame.insert` many times, which has poor performance.  Consider joining all columns at once using pd.concat(axis=1) instead. To get a de-fragmented frame, use `newframe = frame.copy()`\n",
      "  df_train[new_columns] = encoder.transform(df_train[columns_categorical])\n",
      "C:\\Users\\HP\\AppData\\Local\\Temp\\ipykernel_14180\\1602800353.py:1: PerformanceWarning: DataFrame is highly fragmented.  This is usually the result of calling `frame.insert` many times, which has poor performance.  Consider joining all columns at once using pd.concat(axis=1) instead. To get a de-fragmented frame, use `newframe = frame.copy()`\n",
      "  df_train[new_columns] = encoder.transform(df_train[columns_categorical])\n",
      "C:\\Users\\HP\\AppData\\Local\\Temp\\ipykernel_14180\\1602800353.py:1: PerformanceWarning: DataFrame is highly fragmented.  This is usually the result of calling `frame.insert` many times, which has poor performance.  Consider joining all columns at once using pd.concat(axis=1) instead. To get a de-fragmented frame, use `newframe = frame.copy()`\n",
      "  df_train[new_columns] = encoder.transform(df_train[columns_categorical])\n",
      "C:\\Users\\HP\\AppData\\Local\\Temp\\ipykernel_14180\\1602800353.py:1: PerformanceWarning: DataFrame is highly fragmented.  This is usually the result of calling `frame.insert` many times, which has poor performance.  Consider joining all columns at once using pd.concat(axis=1) instead. To get a de-fragmented frame, use `newframe = frame.copy()`\n",
      "  df_train[new_columns] = encoder.transform(df_train[columns_categorical])\n",
      "C:\\Users\\HP\\AppData\\Local\\Temp\\ipykernel_14180\\1602800353.py:1: PerformanceWarning: DataFrame is highly fragmented.  This is usually the result of calling `frame.insert` many times, which has poor performance.  Consider joining all columns at once using pd.concat(axis=1) instead. To get a de-fragmented frame, use `newframe = frame.copy()`\n",
      "  df_train[new_columns] = encoder.transform(df_train[columns_categorical])\n",
      "C:\\Users\\HP\\AppData\\Local\\Temp\\ipykernel_14180\\1602800353.py:1: PerformanceWarning: DataFrame is highly fragmented.  This is usually the result of calling `frame.insert` many times, which has poor performance.  Consider joining all columns at once using pd.concat(axis=1) instead. To get a de-fragmented frame, use `newframe = frame.copy()`\n",
      "  df_train[new_columns] = encoder.transform(df_train[columns_categorical])\n",
      "C:\\Users\\HP\\AppData\\Local\\Temp\\ipykernel_14180\\1602800353.py:1: PerformanceWarning: DataFrame is highly fragmented.  This is usually the result of calling `frame.insert` many times, which has poor performance.  Consider joining all columns at once using pd.concat(axis=1) instead. To get a de-fragmented frame, use `newframe = frame.copy()`\n",
      "  df_train[new_columns] = encoder.transform(df_train[columns_categorical])\n",
      "C:\\Users\\HP\\AppData\\Local\\Temp\\ipykernel_14180\\1602800353.py:1: PerformanceWarning: DataFrame is highly fragmented.  This is usually the result of calling `frame.insert` many times, which has poor performance.  Consider joining all columns at once using pd.concat(axis=1) instead. To get a de-fragmented frame, use `newframe = frame.copy()`\n",
      "  df_train[new_columns] = encoder.transform(df_train[columns_categorical])\n",
      "C:\\Users\\HP\\AppData\\Local\\Temp\\ipykernel_14180\\1602800353.py:1: PerformanceWarning: DataFrame is highly fragmented.  This is usually the result of calling `frame.insert` many times, which has poor performance.  Consider joining all columns at once using pd.concat(axis=1) instead. To get a de-fragmented frame, use `newframe = frame.copy()`\n",
      "  df_train[new_columns] = encoder.transform(df_train[columns_categorical])\n",
      "C:\\Users\\HP\\AppData\\Local\\Temp\\ipykernel_14180\\1602800353.py:1: PerformanceWarning: DataFrame is highly fragmented.  This is usually the result of calling `frame.insert` many times, which has poor performance.  Consider joining all columns at once using pd.concat(axis=1) instead. To get a de-fragmented frame, use `newframe = frame.copy()`\n",
      "  df_train[new_columns] = encoder.transform(df_train[columns_categorical])\n",
      "C:\\Users\\HP\\AppData\\Local\\Temp\\ipykernel_14180\\1602800353.py:1: PerformanceWarning: DataFrame is highly fragmented.  This is usually the result of calling `frame.insert` many times, which has poor performance.  Consider joining all columns at once using pd.concat(axis=1) instead. To get a de-fragmented frame, use `newframe = frame.copy()`\n",
      "  df_train[new_columns] = encoder.transform(df_train[columns_categorical])\n",
      "C:\\Users\\HP\\AppData\\Local\\Temp\\ipykernel_14180\\1602800353.py:1: PerformanceWarning: DataFrame is highly fragmented.  This is usually the result of calling `frame.insert` many times, which has poor performance.  Consider joining all columns at once using pd.concat(axis=1) instead. To get a de-fragmented frame, use `newframe = frame.copy()`\n",
      "  df_train[new_columns] = encoder.transform(df_train[columns_categorical])\n",
      "C:\\Users\\HP\\AppData\\Local\\Temp\\ipykernel_14180\\1602800353.py:1: PerformanceWarning: DataFrame is highly fragmented.  This is usually the result of calling `frame.insert` many times, which has poor performance.  Consider joining all columns at once using pd.concat(axis=1) instead. To get a de-fragmented frame, use `newframe = frame.copy()`\n",
      "  df_train[new_columns] = encoder.transform(df_train[columns_categorical])\n",
      "C:\\Users\\HP\\AppData\\Local\\Temp\\ipykernel_14180\\1602800353.py:1: PerformanceWarning: DataFrame is highly fragmented.  This is usually the result of calling `frame.insert` many times, which has poor performance.  Consider joining all columns at once using pd.concat(axis=1) instead. To get a de-fragmented frame, use `newframe = frame.copy()`\n",
      "  df_train[new_columns] = encoder.transform(df_train[columns_categorical])\n",
      "C:\\Users\\HP\\AppData\\Local\\Temp\\ipykernel_14180\\1602800353.py:1: PerformanceWarning: DataFrame is highly fragmented.  This is usually the result of calling `frame.insert` many times, which has poor performance.  Consider joining all columns at once using pd.concat(axis=1) instead. To get a de-fragmented frame, use `newframe = frame.copy()`\n",
      "  df_train[new_columns] = encoder.transform(df_train[columns_categorical])\n",
      "C:\\Users\\HP\\AppData\\Local\\Temp\\ipykernel_14180\\1602800353.py:1: PerformanceWarning: DataFrame is highly fragmented.  This is usually the result of calling `frame.insert` many times, which has poor performance.  Consider joining all columns at once using pd.concat(axis=1) instead. To get a de-fragmented frame, use `newframe = frame.copy()`\n",
      "  df_train[new_columns] = encoder.transform(df_train[columns_categorical])\n",
      "C:\\Users\\HP\\AppData\\Local\\Temp\\ipykernel_14180\\1602800353.py:1: PerformanceWarning: DataFrame is highly fragmented.  This is usually the result of calling `frame.insert` many times, which has poor performance.  Consider joining all columns at once using pd.concat(axis=1) instead. To get a de-fragmented frame, use `newframe = frame.copy()`\n",
      "  df_train[new_columns] = encoder.transform(df_train[columns_categorical])\n",
      "C:\\Users\\HP\\AppData\\Local\\Temp\\ipykernel_14180\\1602800353.py:1: PerformanceWarning: DataFrame is highly fragmented.  This is usually the result of calling `frame.insert` many times, which has poor performance.  Consider joining all columns at once using pd.concat(axis=1) instead. To get a de-fragmented frame, use `newframe = frame.copy()`\n",
      "  df_train[new_columns] = encoder.transform(df_train[columns_categorical])\n",
      "C:\\Users\\HP\\AppData\\Local\\Temp\\ipykernel_14180\\1602800353.py:1: PerformanceWarning: DataFrame is highly fragmented.  This is usually the result of calling `frame.insert` many times, which has poor performance.  Consider joining all columns at once using pd.concat(axis=1) instead. To get a de-fragmented frame, use `newframe = frame.copy()`\n",
      "  df_train[new_columns] = encoder.transform(df_train[columns_categorical])\n",
      "C:\\Users\\HP\\AppData\\Local\\Temp\\ipykernel_14180\\1602800353.py:1: PerformanceWarning: DataFrame is highly fragmented.  This is usually the result of calling `frame.insert` many times, which has poor performance.  Consider joining all columns at once using pd.concat(axis=1) instead. To get a de-fragmented frame, use `newframe = frame.copy()`\n",
      "  df_train[new_columns] = encoder.transform(df_train[columns_categorical])\n",
      "C:\\Users\\HP\\AppData\\Local\\Temp\\ipykernel_14180\\1602800353.py:1: PerformanceWarning: DataFrame is highly fragmented.  This is usually the result of calling `frame.insert` many times, which has poor performance.  Consider joining all columns at once using pd.concat(axis=1) instead. To get a de-fragmented frame, use `newframe = frame.copy()`\n",
      "  df_train[new_columns] = encoder.transform(df_train[columns_categorical])\n",
      "C:\\Users\\HP\\AppData\\Local\\Temp\\ipykernel_14180\\1602800353.py:1: PerformanceWarning: DataFrame is highly fragmented.  This is usually the result of calling `frame.insert` many times, which has poor performance.  Consider joining all columns at once using pd.concat(axis=1) instead. To get a de-fragmented frame, use `newframe = frame.copy()`\n",
      "  df_train[new_columns] = encoder.transform(df_train[columns_categorical])\n",
      "C:\\Users\\HP\\AppData\\Local\\Temp\\ipykernel_14180\\1602800353.py:1: PerformanceWarning: DataFrame is highly fragmented.  This is usually the result of calling `frame.insert` many times, which has poor performance.  Consider joining all columns at once using pd.concat(axis=1) instead. To get a de-fragmented frame, use `newframe = frame.copy()`\n",
      "  df_train[new_columns] = encoder.transform(df_train[columns_categorical])\n",
      "C:\\Users\\HP\\AppData\\Local\\Temp\\ipykernel_14180\\1602800353.py:1: PerformanceWarning: DataFrame is highly fragmented.  This is usually the result of calling `frame.insert` many times, which has poor performance.  Consider joining all columns at once using pd.concat(axis=1) instead. To get a de-fragmented frame, use `newframe = frame.copy()`\n",
      "  df_train[new_columns] = encoder.transform(df_train[columns_categorical])\n",
      "C:\\Users\\HP\\AppData\\Local\\Temp\\ipykernel_14180\\1602800353.py:1: PerformanceWarning: DataFrame is highly fragmented.  This is usually the result of calling `frame.insert` many times, which has poor performance.  Consider joining all columns at once using pd.concat(axis=1) instead. To get a de-fragmented frame, use `newframe = frame.copy()`\n",
      "  df_train[new_columns] = encoder.transform(df_train[columns_categorical])\n",
      "C:\\Users\\HP\\AppData\\Local\\Temp\\ipykernel_14180\\1602800353.py:1: PerformanceWarning: DataFrame is highly fragmented.  This is usually the result of calling `frame.insert` many times, which has poor performance.  Consider joining all columns at once using pd.concat(axis=1) instead. To get a de-fragmented frame, use `newframe = frame.copy()`\n",
      "  df_train[new_columns] = encoder.transform(df_train[columns_categorical])\n",
      "C:\\Users\\HP\\AppData\\Local\\Temp\\ipykernel_14180\\1602800353.py:1: PerformanceWarning: DataFrame is highly fragmented.  This is usually the result of calling `frame.insert` many times, which has poor performance.  Consider joining all columns at once using pd.concat(axis=1) instead. To get a de-fragmented frame, use `newframe = frame.copy()`\n",
      "  df_train[new_columns] = encoder.transform(df_train[columns_categorical])\n",
      "C:\\Users\\HP\\AppData\\Local\\Temp\\ipykernel_14180\\1602800353.py:1: PerformanceWarning: DataFrame is highly fragmented.  This is usually the result of calling `frame.insert` many times, which has poor performance.  Consider joining all columns at once using pd.concat(axis=1) instead. To get a de-fragmented frame, use `newframe = frame.copy()`\n",
      "  df_train[new_columns] = encoder.transform(df_train[columns_categorical])\n",
      "C:\\Users\\HP\\AppData\\Local\\Temp\\ipykernel_14180\\1602800353.py:1: PerformanceWarning: DataFrame is highly fragmented.  This is usually the result of calling `frame.insert` many times, which has poor performance.  Consider joining all columns at once using pd.concat(axis=1) instead. To get a de-fragmented frame, use `newframe = frame.copy()`\n",
      "  df_train[new_columns] = encoder.transform(df_train[columns_categorical])\n",
      "C:\\Users\\HP\\AppData\\Local\\Temp\\ipykernel_14180\\1602800353.py:1: PerformanceWarning: DataFrame is highly fragmented.  This is usually the result of calling `frame.insert` many times, which has poor performance.  Consider joining all columns at once using pd.concat(axis=1) instead. To get a de-fragmented frame, use `newframe = frame.copy()`\n",
      "  df_train[new_columns] = encoder.transform(df_train[columns_categorical])\n",
      "C:\\Users\\HP\\AppData\\Local\\Temp\\ipykernel_14180\\1602800353.py:1: PerformanceWarning: DataFrame is highly fragmented.  This is usually the result of calling `frame.insert` many times, which has poor performance.  Consider joining all columns at once using pd.concat(axis=1) instead. To get a de-fragmented frame, use `newframe = frame.copy()`\n",
      "  df_train[new_columns] = encoder.transform(df_train[columns_categorical])\n",
      "C:\\Users\\HP\\AppData\\Local\\Temp\\ipykernel_14180\\1602800353.py:2: PerformanceWarning: DataFrame is highly fragmented.  This is usually the result of calling `frame.insert` many times, which has poor performance.  Consider joining all columns at once using pd.concat(axis=1) instead. To get a de-fragmented frame, use `newframe = frame.copy()`\n",
      "  df_test[new_columns] = encoder.transform(df_test[columns_categorical])\n",
      "C:\\Users\\HP\\AppData\\Local\\Temp\\ipykernel_14180\\1602800353.py:2: PerformanceWarning: DataFrame is highly fragmented.  This is usually the result of calling `frame.insert` many times, which has poor performance.  Consider joining all columns at once using pd.concat(axis=1) instead. To get a de-fragmented frame, use `newframe = frame.copy()`\n",
      "  df_test[new_columns] = encoder.transform(df_test[columns_categorical])\n",
      "C:\\Users\\HP\\AppData\\Local\\Temp\\ipykernel_14180\\1602800353.py:2: PerformanceWarning: DataFrame is highly fragmented.  This is usually the result of calling `frame.insert` many times, which has poor performance.  Consider joining all columns at once using pd.concat(axis=1) instead. To get a de-fragmented frame, use `newframe = frame.copy()`\n",
      "  df_test[new_columns] = encoder.transform(df_test[columns_categorical])\n",
      "C:\\Users\\HP\\AppData\\Local\\Temp\\ipykernel_14180\\1602800353.py:2: PerformanceWarning: DataFrame is highly fragmented.  This is usually the result of calling `frame.insert` many times, which has poor performance.  Consider joining all columns at once using pd.concat(axis=1) instead. To get a de-fragmented frame, use `newframe = frame.copy()`\n",
      "  df_test[new_columns] = encoder.transform(df_test[columns_categorical])\n",
      "C:\\Users\\HP\\AppData\\Local\\Temp\\ipykernel_14180\\1602800353.py:2: PerformanceWarning: DataFrame is highly fragmented.  This is usually the result of calling `frame.insert` many times, which has poor performance.  Consider joining all columns at once using pd.concat(axis=1) instead. To get a de-fragmented frame, use `newframe = frame.copy()`\n",
      "  df_test[new_columns] = encoder.transform(df_test[columns_categorical])\n",
      "C:\\Users\\HP\\AppData\\Local\\Temp\\ipykernel_14180\\1602800353.py:2: PerformanceWarning: DataFrame is highly fragmented.  This is usually the result of calling `frame.insert` many times, which has poor performance.  Consider joining all columns at once using pd.concat(axis=1) instead. To get a de-fragmented frame, use `newframe = frame.copy()`\n",
      "  df_test[new_columns] = encoder.transform(df_test[columns_categorical])\n",
      "C:\\Users\\HP\\AppData\\Local\\Temp\\ipykernel_14180\\1602800353.py:2: PerformanceWarning: DataFrame is highly fragmented.  This is usually the result of calling `frame.insert` many times, which has poor performance.  Consider joining all columns at once using pd.concat(axis=1) instead. To get a de-fragmented frame, use `newframe = frame.copy()`\n",
      "  df_test[new_columns] = encoder.transform(df_test[columns_categorical])\n",
      "C:\\Users\\HP\\AppData\\Local\\Temp\\ipykernel_14180\\1602800353.py:2: PerformanceWarning: DataFrame is highly fragmented.  This is usually the result of calling `frame.insert` many times, which has poor performance.  Consider joining all columns at once using pd.concat(axis=1) instead. To get a de-fragmented frame, use `newframe = frame.copy()`\n",
      "  df_test[new_columns] = encoder.transform(df_test[columns_categorical])\n",
      "C:\\Users\\HP\\AppData\\Local\\Temp\\ipykernel_14180\\1602800353.py:2: PerformanceWarning: DataFrame is highly fragmented.  This is usually the result of calling `frame.insert` many times, which has poor performance.  Consider joining all columns at once using pd.concat(axis=1) instead. To get a de-fragmented frame, use `newframe = frame.copy()`\n",
      "  df_test[new_columns] = encoder.transform(df_test[columns_categorical])\n",
      "C:\\Users\\HP\\AppData\\Local\\Temp\\ipykernel_14180\\1602800353.py:2: PerformanceWarning: DataFrame is highly fragmented.  This is usually the result of calling `frame.insert` many times, which has poor performance.  Consider joining all columns at once using pd.concat(axis=1) instead. To get a de-fragmented frame, use `newframe = frame.copy()`\n",
      "  df_test[new_columns] = encoder.transform(df_test[columns_categorical])\n",
      "C:\\Users\\HP\\AppData\\Local\\Temp\\ipykernel_14180\\1602800353.py:2: PerformanceWarning: DataFrame is highly fragmented.  This is usually the result of calling `frame.insert` many times, which has poor performance.  Consider joining all columns at once using pd.concat(axis=1) instead. To get a de-fragmented frame, use `newframe = frame.copy()`\n",
      "  df_test[new_columns] = encoder.transform(df_test[columns_categorical])\n",
      "C:\\Users\\HP\\AppData\\Local\\Temp\\ipykernel_14180\\1602800353.py:2: PerformanceWarning: DataFrame is highly fragmented.  This is usually the result of calling `frame.insert` many times, which has poor performance.  Consider joining all columns at once using pd.concat(axis=1) instead. To get a de-fragmented frame, use `newframe = frame.copy()`\n",
      "  df_test[new_columns] = encoder.transform(df_test[columns_categorical])\n",
      "C:\\Users\\HP\\AppData\\Local\\Temp\\ipykernel_14180\\1602800353.py:2: PerformanceWarning: DataFrame is highly fragmented.  This is usually the result of calling `frame.insert` many times, which has poor performance.  Consider joining all columns at once using pd.concat(axis=1) instead. To get a de-fragmented frame, use `newframe = frame.copy()`\n",
      "  df_test[new_columns] = encoder.transform(df_test[columns_categorical])\n",
      "C:\\Users\\HP\\AppData\\Local\\Temp\\ipykernel_14180\\1602800353.py:2: PerformanceWarning: DataFrame is highly fragmented.  This is usually the result of calling `frame.insert` many times, which has poor performance.  Consider joining all columns at once using pd.concat(axis=1) instead. To get a de-fragmented frame, use `newframe = frame.copy()`\n",
      "  df_test[new_columns] = encoder.transform(df_test[columns_categorical])\n",
      "C:\\Users\\HP\\AppData\\Local\\Temp\\ipykernel_14180\\1602800353.py:2: PerformanceWarning: DataFrame is highly fragmented.  This is usually the result of calling `frame.insert` many times, which has poor performance.  Consider joining all columns at once using pd.concat(axis=1) instead. To get a de-fragmented frame, use `newframe = frame.copy()`\n",
      "  df_test[new_columns] = encoder.transform(df_test[columns_categorical])\n",
      "C:\\Users\\HP\\AppData\\Local\\Temp\\ipykernel_14180\\1602800353.py:2: PerformanceWarning: DataFrame is highly fragmented.  This is usually the result of calling `frame.insert` many times, which has poor performance.  Consider joining all columns at once using pd.concat(axis=1) instead. To get a de-fragmented frame, use `newframe = frame.copy()`\n",
      "  df_test[new_columns] = encoder.transform(df_test[columns_categorical])\n",
      "C:\\Users\\HP\\AppData\\Local\\Temp\\ipykernel_14180\\1602800353.py:2: PerformanceWarning: DataFrame is highly fragmented.  This is usually the result of calling `frame.insert` many times, which has poor performance.  Consider joining all columns at once using pd.concat(axis=1) instead. To get a de-fragmented frame, use `newframe = frame.copy()`\n",
      "  df_test[new_columns] = encoder.transform(df_test[columns_categorical])\n",
      "C:\\Users\\HP\\AppData\\Local\\Temp\\ipykernel_14180\\1602800353.py:2: PerformanceWarning: DataFrame is highly fragmented.  This is usually the result of calling `frame.insert` many times, which has poor performance.  Consider joining all columns at once using pd.concat(axis=1) instead. To get a de-fragmented frame, use `newframe = frame.copy()`\n",
      "  df_test[new_columns] = encoder.transform(df_test[columns_categorical])\n",
      "C:\\Users\\HP\\AppData\\Local\\Temp\\ipykernel_14180\\1602800353.py:2: PerformanceWarning: DataFrame is highly fragmented.  This is usually the result of calling `frame.insert` many times, which has poor performance.  Consider joining all columns at once using pd.concat(axis=1) instead. To get a de-fragmented frame, use `newframe = frame.copy()`\n",
      "  df_test[new_columns] = encoder.transform(df_test[columns_categorical])\n",
      "C:\\Users\\HP\\AppData\\Local\\Temp\\ipykernel_14180\\1602800353.py:2: PerformanceWarning: DataFrame is highly fragmented.  This is usually the result of calling `frame.insert` many times, which has poor performance.  Consider joining all columns at once using pd.concat(axis=1) instead. To get a de-fragmented frame, use `newframe = frame.copy()`\n",
      "  df_test[new_columns] = encoder.transform(df_test[columns_categorical])\n",
      "C:\\Users\\HP\\AppData\\Local\\Temp\\ipykernel_14180\\1602800353.py:2: PerformanceWarning: DataFrame is highly fragmented.  This is usually the result of calling `frame.insert` many times, which has poor performance.  Consider joining all columns at once using pd.concat(axis=1) instead. To get a de-fragmented frame, use `newframe = frame.copy()`\n",
      "  df_test[new_columns] = encoder.transform(df_test[columns_categorical])\n",
      "C:\\Users\\HP\\AppData\\Local\\Temp\\ipykernel_14180\\1602800353.py:2: PerformanceWarning: DataFrame is highly fragmented.  This is usually the result of calling `frame.insert` many times, which has poor performance.  Consider joining all columns at once using pd.concat(axis=1) instead. To get a de-fragmented frame, use `newframe = frame.copy()`\n",
      "  df_test[new_columns] = encoder.transform(df_test[columns_categorical])\n",
      "C:\\Users\\HP\\AppData\\Local\\Temp\\ipykernel_14180\\1602800353.py:2: PerformanceWarning: DataFrame is highly fragmented.  This is usually the result of calling `frame.insert` many times, which has poor performance.  Consider joining all columns at once using pd.concat(axis=1) instead. To get a de-fragmented frame, use `newframe = frame.copy()`\n",
      "  df_test[new_columns] = encoder.transform(df_test[columns_categorical])\n",
      "C:\\Users\\HP\\AppData\\Local\\Temp\\ipykernel_14180\\1602800353.py:2: PerformanceWarning: DataFrame is highly fragmented.  This is usually the result of calling `frame.insert` many times, which has poor performance.  Consider joining all columns at once using pd.concat(axis=1) instead. To get a de-fragmented frame, use `newframe = frame.copy()`\n",
      "  df_test[new_columns] = encoder.transform(df_test[columns_categorical])\n",
      "C:\\Users\\HP\\AppData\\Local\\Temp\\ipykernel_14180\\1602800353.py:2: PerformanceWarning: DataFrame is highly fragmented.  This is usually the result of calling `frame.insert` many times, which has poor performance.  Consider joining all columns at once using pd.concat(axis=1) instead. To get a de-fragmented frame, use `newframe = frame.copy()`\n",
      "  df_test[new_columns] = encoder.transform(df_test[columns_categorical])\n",
      "C:\\Users\\HP\\AppData\\Local\\Temp\\ipykernel_14180\\1602800353.py:2: PerformanceWarning: DataFrame is highly fragmented.  This is usually the result of calling `frame.insert` many times, which has poor performance.  Consider joining all columns at once using pd.concat(axis=1) instead. To get a de-fragmented frame, use `newframe = frame.copy()`\n",
      "  df_test[new_columns] = encoder.transform(df_test[columns_categorical])\n",
      "C:\\Users\\HP\\AppData\\Local\\Temp\\ipykernel_14180\\1602800353.py:2: PerformanceWarning: DataFrame is highly fragmented.  This is usually the result of calling `frame.insert` many times, which has poor performance.  Consider joining all columns at once using pd.concat(axis=1) instead. To get a de-fragmented frame, use `newframe = frame.copy()`\n",
      "  df_test[new_columns] = encoder.transform(df_test[columns_categorical])\n",
      "C:\\Users\\HP\\AppData\\Local\\Temp\\ipykernel_14180\\1602800353.py:2: PerformanceWarning: DataFrame is highly fragmented.  This is usually the result of calling `frame.insert` many times, which has poor performance.  Consider joining all columns at once using pd.concat(axis=1) instead. To get a de-fragmented frame, use `newframe = frame.copy()`\n",
      "  df_test[new_columns] = encoder.transform(df_test[columns_categorical])\n",
      "C:\\Users\\HP\\AppData\\Local\\Temp\\ipykernel_14180\\1602800353.py:2: PerformanceWarning: DataFrame is highly fragmented.  This is usually the result of calling `frame.insert` many times, which has poor performance.  Consider joining all columns at once using pd.concat(axis=1) instead. To get a de-fragmented frame, use `newframe = frame.copy()`\n",
      "  df_test[new_columns] = encoder.transform(df_test[columns_categorical])\n",
      "C:\\Users\\HP\\AppData\\Local\\Temp\\ipykernel_14180\\1602800353.py:2: PerformanceWarning: DataFrame is highly fragmented.  This is usually the result of calling `frame.insert` many times, which has poor performance.  Consider joining all columns at once using pd.concat(axis=1) instead. To get a de-fragmented frame, use `newframe = frame.copy()`\n",
      "  df_test[new_columns] = encoder.transform(df_test[columns_categorical])\n",
      "C:\\Users\\HP\\AppData\\Local\\Temp\\ipykernel_14180\\1602800353.py:2: PerformanceWarning: DataFrame is highly fragmented.  This is usually the result of calling `frame.insert` many times, which has poor performance.  Consider joining all columns at once using pd.concat(axis=1) instead. To get a de-fragmented frame, use `newframe = frame.copy()`\n",
      "  df_test[new_columns] = encoder.transform(df_test[columns_categorical])\n",
      "C:\\Users\\HP\\AppData\\Local\\Temp\\ipykernel_14180\\1602800353.py:2: PerformanceWarning: DataFrame is highly fragmented.  This is usually the result of calling `frame.insert` many times, which has poor performance.  Consider joining all columns at once using pd.concat(axis=1) instead. To get a de-fragmented frame, use `newframe = frame.copy()`\n",
      "  df_test[new_columns] = encoder.transform(df_test[columns_categorical])\n",
      "C:\\Users\\HP\\AppData\\Local\\Temp\\ipykernel_14180\\1602800353.py:2: PerformanceWarning: DataFrame is highly fragmented.  This is usually the result of calling `frame.insert` many times, which has poor performance.  Consider joining all columns at once using pd.concat(axis=1) instead. To get a de-fragmented frame, use `newframe = frame.copy()`\n",
      "  df_test[new_columns] = encoder.transform(df_test[columns_categorical])\n",
      "C:\\Users\\HP\\AppData\\Local\\Temp\\ipykernel_14180\\1602800353.py:2: PerformanceWarning: DataFrame is highly fragmented.  This is usually the result of calling `frame.insert` many times, which has poor performance.  Consider joining all columns at once using pd.concat(axis=1) instead. To get a de-fragmented frame, use `newframe = frame.copy()`\n",
      "  df_test[new_columns] = encoder.transform(df_test[columns_categorical])\n",
      "C:\\Users\\HP\\AppData\\Local\\Temp\\ipykernel_14180\\1602800353.py:2: PerformanceWarning: DataFrame is highly fragmented.  This is usually the result of calling `frame.insert` many times, which has poor performance.  Consider joining all columns at once using pd.concat(axis=1) instead. To get a de-fragmented frame, use `newframe = frame.copy()`\n",
      "  df_test[new_columns] = encoder.transform(df_test[columns_categorical])\n",
      "C:\\Users\\HP\\AppData\\Local\\Temp\\ipykernel_14180\\1602800353.py:2: PerformanceWarning: DataFrame is highly fragmented.  This is usually the result of calling `frame.insert` many times, which has poor performance.  Consider joining all columns at once using pd.concat(axis=1) instead. To get a de-fragmented frame, use `newframe = frame.copy()`\n",
      "  df_test[new_columns] = encoder.transform(df_test[columns_categorical])\n",
      "C:\\Users\\HP\\AppData\\Local\\Temp\\ipykernel_14180\\1602800353.py:2: PerformanceWarning: DataFrame is highly fragmented.  This is usually the result of calling `frame.insert` many times, which has poor performance.  Consider joining all columns at once using pd.concat(axis=1) instead. To get a de-fragmented frame, use `newframe = frame.copy()`\n",
      "  df_test[new_columns] = encoder.transform(df_test[columns_categorical])\n",
      "C:\\Users\\HP\\AppData\\Local\\Temp\\ipykernel_14180\\1602800353.py:2: PerformanceWarning: DataFrame is highly fragmented.  This is usually the result of calling `frame.insert` many times, which has poor performance.  Consider joining all columns at once using pd.concat(axis=1) instead. To get a de-fragmented frame, use `newframe = frame.copy()`\n",
      "  df_test[new_columns] = encoder.transform(df_test[columns_categorical])\n",
      "C:\\Users\\HP\\AppData\\Local\\Temp\\ipykernel_14180\\1602800353.py:2: PerformanceWarning: DataFrame is highly fragmented.  This is usually the result of calling `frame.insert` many times, which has poor performance.  Consider joining all columns at once using pd.concat(axis=1) instead. To get a de-fragmented frame, use `newframe = frame.copy()`\n",
      "  df_test[new_columns] = encoder.transform(df_test[columns_categorical])\n",
      "C:\\Users\\HP\\AppData\\Local\\Temp\\ipykernel_14180\\1602800353.py:2: PerformanceWarning: DataFrame is highly fragmented.  This is usually the result of calling `frame.insert` many times, which has poor performance.  Consider joining all columns at once using pd.concat(axis=1) instead. To get a de-fragmented frame, use `newframe = frame.copy()`\n",
      "  df_test[new_columns] = encoder.transform(df_test[columns_categorical])\n",
      "C:\\Users\\HP\\AppData\\Local\\Temp\\ipykernel_14180\\1602800353.py:2: PerformanceWarning: DataFrame is highly fragmented.  This is usually the result of calling `frame.insert` many times, which has poor performance.  Consider joining all columns at once using pd.concat(axis=1) instead. To get a de-fragmented frame, use `newframe = frame.copy()`\n",
      "  df_test[new_columns] = encoder.transform(df_test[columns_categorical])\n",
      "C:\\Users\\HP\\AppData\\Local\\Temp\\ipykernel_14180\\1602800353.py:2: PerformanceWarning: DataFrame is highly fragmented.  This is usually the result of calling `frame.insert` many times, which has poor performance.  Consider joining all columns at once using pd.concat(axis=1) instead. To get a de-fragmented frame, use `newframe = frame.copy()`\n",
      "  df_test[new_columns] = encoder.transform(df_test[columns_categorical])\n",
      "C:\\Users\\HP\\AppData\\Local\\Temp\\ipykernel_14180\\1602800353.py:2: PerformanceWarning: DataFrame is highly fragmented.  This is usually the result of calling `frame.insert` many times, which has poor performance.  Consider joining all columns at once using pd.concat(axis=1) instead. To get a de-fragmented frame, use `newframe = frame.copy()`\n",
      "  df_test[new_columns] = encoder.transform(df_test[columns_categorical])\n",
      "C:\\Users\\HP\\AppData\\Local\\Temp\\ipykernel_14180\\1602800353.py:2: PerformanceWarning: DataFrame is highly fragmented.  This is usually the result of calling `frame.insert` many times, which has poor performance.  Consider joining all columns at once using pd.concat(axis=1) instead. To get a de-fragmented frame, use `newframe = frame.copy()`\n",
      "  df_test[new_columns] = encoder.transform(df_test[columns_categorical])\n",
      "C:\\Users\\HP\\AppData\\Local\\Temp\\ipykernel_14180\\1602800353.py:2: PerformanceWarning: DataFrame is highly fragmented.  This is usually the result of calling `frame.insert` many times, which has poor performance.  Consider joining all columns at once using pd.concat(axis=1) instead. To get a de-fragmented frame, use `newframe = frame.copy()`\n",
      "  df_test[new_columns] = encoder.transform(df_test[columns_categorical])\n",
      "C:\\Users\\HP\\AppData\\Local\\Temp\\ipykernel_14180\\1602800353.py:2: PerformanceWarning: DataFrame is highly fragmented.  This is usually the result of calling `frame.insert` many times, which has poor performance.  Consider joining all columns at once using pd.concat(axis=1) instead. To get a de-fragmented frame, use `newframe = frame.copy()`\n",
      "  df_test[new_columns] = encoder.transform(df_test[columns_categorical])\n",
      "C:\\Users\\HP\\AppData\\Local\\Temp\\ipykernel_14180\\1602800353.py:2: PerformanceWarning: DataFrame is highly fragmented.  This is usually the result of calling `frame.insert` many times, which has poor performance.  Consider joining all columns at once using pd.concat(axis=1) instead. To get a de-fragmented frame, use `newframe = frame.copy()`\n",
      "  df_test[new_columns] = encoder.transform(df_test[columns_categorical])\n",
      "C:\\Users\\HP\\AppData\\Local\\Temp\\ipykernel_14180\\1602800353.py:2: PerformanceWarning: DataFrame is highly fragmented.  This is usually the result of calling `frame.insert` many times, which has poor performance.  Consider joining all columns at once using pd.concat(axis=1) instead. To get a de-fragmented frame, use `newframe = frame.copy()`\n",
      "  df_test[new_columns] = encoder.transform(df_test[columns_categorical])\n",
      "C:\\Users\\HP\\AppData\\Local\\Temp\\ipykernel_14180\\1602800353.py:2: PerformanceWarning: DataFrame is highly fragmented.  This is usually the result of calling `frame.insert` many times, which has poor performance.  Consider joining all columns at once using pd.concat(axis=1) instead. To get a de-fragmented frame, use `newframe = frame.copy()`\n",
      "  df_test[new_columns] = encoder.transform(df_test[columns_categorical])\n",
      "C:\\Users\\HP\\AppData\\Local\\Temp\\ipykernel_14180\\1602800353.py:2: PerformanceWarning: DataFrame is highly fragmented.  This is usually the result of calling `frame.insert` many times, which has poor performance.  Consider joining all columns at once using pd.concat(axis=1) instead. To get a de-fragmented frame, use `newframe = frame.copy()`\n",
      "  df_test[new_columns] = encoder.transform(df_test[columns_categorical])\n",
      "C:\\Users\\HP\\AppData\\Local\\Temp\\ipykernel_14180\\1602800353.py:2: PerformanceWarning: DataFrame is highly fragmented.  This is usually the result of calling `frame.insert` many times, which has poor performance.  Consider joining all columns at once using pd.concat(axis=1) instead. To get a de-fragmented frame, use `newframe = frame.copy()`\n",
      "  df_test[new_columns] = encoder.transform(df_test[columns_categorical])\n",
      "C:\\Users\\HP\\AppData\\Local\\Temp\\ipykernel_14180\\1602800353.py:2: PerformanceWarning: DataFrame is highly fragmented.  This is usually the result of calling `frame.insert` many times, which has poor performance.  Consider joining all columns at once using pd.concat(axis=1) instead. To get a de-fragmented frame, use `newframe = frame.copy()`\n",
      "  df_test[new_columns] = encoder.transform(df_test[columns_categorical])\n",
      "C:\\Users\\HP\\AppData\\Local\\Temp\\ipykernel_14180\\1602800353.py:2: PerformanceWarning: DataFrame is highly fragmented.  This is usually the result of calling `frame.insert` many times, which has poor performance.  Consider joining all columns at once using pd.concat(axis=1) instead. To get a de-fragmented frame, use `newframe = frame.copy()`\n",
      "  df_test[new_columns] = encoder.transform(df_test[columns_categorical])\n",
      "C:\\Users\\HP\\AppData\\Local\\Temp\\ipykernel_14180\\1602800353.py:2: PerformanceWarning: DataFrame is highly fragmented.  This is usually the result of calling `frame.insert` many times, which has poor performance.  Consider joining all columns at once using pd.concat(axis=1) instead. To get a de-fragmented frame, use `newframe = frame.copy()`\n",
      "  df_test[new_columns] = encoder.transform(df_test[columns_categorical])\n",
      "C:\\Users\\HP\\AppData\\Local\\Temp\\ipykernel_14180\\1602800353.py:2: PerformanceWarning: DataFrame is highly fragmented.  This is usually the result of calling `frame.insert` many times, which has poor performance.  Consider joining all columns at once using pd.concat(axis=1) instead. To get a de-fragmented frame, use `newframe = frame.copy()`\n",
      "  df_test[new_columns] = encoder.transform(df_test[columns_categorical])\n",
      "C:\\Users\\HP\\AppData\\Local\\Temp\\ipykernel_14180\\1602800353.py:2: PerformanceWarning: DataFrame is highly fragmented.  This is usually the result of calling `frame.insert` many times, which has poor performance.  Consider joining all columns at once using pd.concat(axis=1) instead. To get a de-fragmented frame, use `newframe = frame.copy()`\n",
      "  df_test[new_columns] = encoder.transform(df_test[columns_categorical])\n",
      "C:\\Users\\HP\\AppData\\Local\\Temp\\ipykernel_14180\\1602800353.py:2: PerformanceWarning: DataFrame is highly fragmented.  This is usually the result of calling `frame.insert` many times, which has poor performance.  Consider joining all columns at once using pd.concat(axis=1) instead. To get a de-fragmented frame, use `newframe = frame.copy()`\n",
      "  df_test[new_columns] = encoder.transform(df_test[columns_categorical])\n",
      "C:\\Users\\HP\\AppData\\Local\\Temp\\ipykernel_14180\\1602800353.py:2: PerformanceWarning: DataFrame is highly fragmented.  This is usually the result of calling `frame.insert` many times, which has poor performance.  Consider joining all columns at once using pd.concat(axis=1) instead. To get a de-fragmented frame, use `newframe = frame.copy()`\n",
      "  df_test[new_columns] = encoder.transform(df_test[columns_categorical])\n",
      "C:\\Users\\HP\\AppData\\Local\\Temp\\ipykernel_14180\\1602800353.py:2: PerformanceWarning: DataFrame is highly fragmented.  This is usually the result of calling `frame.insert` many times, which has poor performance.  Consider joining all columns at once using pd.concat(axis=1) instead. To get a de-fragmented frame, use `newframe = frame.copy()`\n",
      "  df_test[new_columns] = encoder.transform(df_test[columns_categorical])\n",
      "C:\\Users\\HP\\AppData\\Local\\Temp\\ipykernel_14180\\1602800353.py:2: PerformanceWarning: DataFrame is highly fragmented.  This is usually the result of calling `frame.insert` many times, which has poor performance.  Consider joining all columns at once using pd.concat(axis=1) instead. To get a de-fragmented frame, use `newframe = frame.copy()`\n",
      "  df_test[new_columns] = encoder.transform(df_test[columns_categorical])\n",
      "C:\\Users\\HP\\AppData\\Local\\Temp\\ipykernel_14180\\1602800353.py:2: PerformanceWarning: DataFrame is highly fragmented.  This is usually the result of calling `frame.insert` many times, which has poor performance.  Consider joining all columns at once using pd.concat(axis=1) instead. To get a de-fragmented frame, use `newframe = frame.copy()`\n",
      "  df_test[new_columns] = encoder.transform(df_test[columns_categorical])\n",
      "C:\\Users\\HP\\AppData\\Local\\Temp\\ipykernel_14180\\1602800353.py:2: PerformanceWarning: DataFrame is highly fragmented.  This is usually the result of calling `frame.insert` many times, which has poor performance.  Consider joining all columns at once using pd.concat(axis=1) instead. To get a de-fragmented frame, use `newframe = frame.copy()`\n",
      "  df_test[new_columns] = encoder.transform(df_test[columns_categorical])\n",
      "C:\\Users\\HP\\AppData\\Local\\Temp\\ipykernel_14180\\1602800353.py:2: PerformanceWarning: DataFrame is highly fragmented.  This is usually the result of calling `frame.insert` many times, which has poor performance.  Consider joining all columns at once using pd.concat(axis=1) instead. To get a de-fragmented frame, use `newframe = frame.copy()`\n",
      "  df_test[new_columns] = encoder.transform(df_test[columns_categorical])\n",
      "C:\\Users\\HP\\AppData\\Local\\Temp\\ipykernel_14180\\1602800353.py:2: PerformanceWarning: DataFrame is highly fragmented.  This is usually the result of calling `frame.insert` many times, which has poor performance.  Consider joining all columns at once using pd.concat(axis=1) instead. To get a de-fragmented frame, use `newframe = frame.copy()`\n",
      "  df_test[new_columns] = encoder.transform(df_test[columns_categorical])\n",
      "C:\\Users\\HP\\AppData\\Local\\Temp\\ipykernel_14180\\1602800353.py:2: PerformanceWarning: DataFrame is highly fragmented.  This is usually the result of calling `frame.insert` many times, which has poor performance.  Consider joining all columns at once using pd.concat(axis=1) instead. To get a de-fragmented frame, use `newframe = frame.copy()`\n",
      "  df_test[new_columns] = encoder.transform(df_test[columns_categorical])\n",
      "C:\\Users\\HP\\AppData\\Local\\Temp\\ipykernel_14180\\1602800353.py:2: PerformanceWarning: DataFrame is highly fragmented.  This is usually the result of calling `frame.insert` many times, which has poor performance.  Consider joining all columns at once using pd.concat(axis=1) instead. To get a de-fragmented frame, use `newframe = frame.copy()`\n",
      "  df_test[new_columns] = encoder.transform(df_test[columns_categorical])\n",
      "C:\\Users\\HP\\AppData\\Local\\Temp\\ipykernel_14180\\1602800353.py:2: PerformanceWarning: DataFrame is highly fragmented.  This is usually the result of calling `frame.insert` many times, which has poor performance.  Consider joining all columns at once using pd.concat(axis=1) instead. To get a de-fragmented frame, use `newframe = frame.copy()`\n",
      "  df_test[new_columns] = encoder.transform(df_test[columns_categorical])\n",
      "C:\\Users\\HP\\AppData\\Local\\Temp\\ipykernel_14180\\1602800353.py:2: PerformanceWarning: DataFrame is highly fragmented.  This is usually the result of calling `frame.insert` many times, which has poor performance.  Consider joining all columns at once using pd.concat(axis=1) instead. To get a de-fragmented frame, use `newframe = frame.copy()`\n",
      "  df_test[new_columns] = encoder.transform(df_test[columns_categorical])\n",
      "C:\\Users\\HP\\AppData\\Local\\Temp\\ipykernel_14180\\1602800353.py:2: PerformanceWarning: DataFrame is highly fragmented.  This is usually the result of calling `frame.insert` many times, which has poor performance.  Consider joining all columns at once using pd.concat(axis=1) instead. To get a de-fragmented frame, use `newframe = frame.copy()`\n",
      "  df_test[new_columns] = encoder.transform(df_test[columns_categorical])\n",
      "C:\\Users\\HP\\AppData\\Local\\Temp\\ipykernel_14180\\1602800353.py:2: PerformanceWarning: DataFrame is highly fragmented.  This is usually the result of calling `frame.insert` many times, which has poor performance.  Consider joining all columns at once using pd.concat(axis=1) instead. To get a de-fragmented frame, use `newframe = frame.copy()`\n",
      "  df_test[new_columns] = encoder.transform(df_test[columns_categorical])\n",
      "C:\\Users\\HP\\AppData\\Local\\Temp\\ipykernel_14180\\1602800353.py:2: PerformanceWarning: DataFrame is highly fragmented.  This is usually the result of calling `frame.insert` many times, which has poor performance.  Consider joining all columns at once using pd.concat(axis=1) instead. To get a de-fragmented frame, use `newframe = frame.copy()`\n",
      "  df_test[new_columns] = encoder.transform(df_test[columns_categorical])\n",
      "C:\\Users\\HP\\AppData\\Local\\Temp\\ipykernel_14180\\1602800353.py:2: PerformanceWarning: DataFrame is highly fragmented.  This is usually the result of calling `frame.insert` many times, which has poor performance.  Consider joining all columns at once using pd.concat(axis=1) instead. To get a de-fragmented frame, use `newframe = frame.copy()`\n",
      "  df_test[new_columns] = encoder.transform(df_test[columns_categorical])\n",
      "C:\\Users\\HP\\AppData\\Local\\Temp\\ipykernel_14180\\1602800353.py:2: PerformanceWarning: DataFrame is highly fragmented.  This is usually the result of calling `frame.insert` many times, which has poor performance.  Consider joining all columns at once using pd.concat(axis=1) instead. To get a de-fragmented frame, use `newframe = frame.copy()`\n",
      "  df_test[new_columns] = encoder.transform(df_test[columns_categorical])\n",
      "C:\\Users\\HP\\AppData\\Local\\Temp\\ipykernel_14180\\1602800353.py:2: PerformanceWarning: DataFrame is highly fragmented.  This is usually the result of calling `frame.insert` many times, which has poor performance.  Consider joining all columns at once using pd.concat(axis=1) instead. To get a de-fragmented frame, use `newframe = frame.copy()`\n",
      "  df_test[new_columns] = encoder.transform(df_test[columns_categorical])\n",
      "C:\\Users\\HP\\AppData\\Local\\Temp\\ipykernel_14180\\1602800353.py:2: PerformanceWarning: DataFrame is highly fragmented.  This is usually the result of calling `frame.insert` many times, which has poor performance.  Consider joining all columns at once using pd.concat(axis=1) instead. To get a de-fragmented frame, use `newframe = frame.copy()`\n",
      "  df_test[new_columns] = encoder.transform(df_test[columns_categorical])\n",
      "C:\\Users\\HP\\AppData\\Local\\Temp\\ipykernel_14180\\1602800353.py:2: PerformanceWarning: DataFrame is highly fragmented.  This is usually the result of calling `frame.insert` many times, which has poor performance.  Consider joining all columns at once using pd.concat(axis=1) instead. To get a de-fragmented frame, use `newframe = frame.copy()`\n",
      "  df_test[new_columns] = encoder.transform(df_test[columns_categorical])\n",
      "C:\\Users\\HP\\AppData\\Local\\Temp\\ipykernel_14180\\1602800353.py:2: PerformanceWarning: DataFrame is highly fragmented.  This is usually the result of calling `frame.insert` many times, which has poor performance.  Consider joining all columns at once using pd.concat(axis=1) instead. To get a de-fragmented frame, use `newframe = frame.copy()`\n",
      "  df_test[new_columns] = encoder.transform(df_test[columns_categorical])\n",
      "C:\\Users\\HP\\AppData\\Local\\Temp\\ipykernel_14180\\1602800353.py:2: PerformanceWarning: DataFrame is highly fragmented.  This is usually the result of calling `frame.insert` many times, which has poor performance.  Consider joining all columns at once using pd.concat(axis=1) instead. To get a de-fragmented frame, use `newframe = frame.copy()`\n",
      "  df_test[new_columns] = encoder.transform(df_test[columns_categorical])\n",
      "C:\\Users\\HP\\AppData\\Local\\Temp\\ipykernel_14180\\1602800353.py:2: PerformanceWarning: DataFrame is highly fragmented.  This is usually the result of calling `frame.insert` many times, which has poor performance.  Consider joining all columns at once using pd.concat(axis=1) instead. To get a de-fragmented frame, use `newframe = frame.copy()`\n",
      "  df_test[new_columns] = encoder.transform(df_test[columns_categorical])\n",
      "C:\\Users\\HP\\AppData\\Local\\Temp\\ipykernel_14180\\1602800353.py:2: PerformanceWarning: DataFrame is highly fragmented.  This is usually the result of calling `frame.insert` many times, which has poor performance.  Consider joining all columns at once using pd.concat(axis=1) instead. To get a de-fragmented frame, use `newframe = frame.copy()`\n",
      "  df_test[new_columns] = encoder.transform(df_test[columns_categorical])\n",
      "C:\\Users\\HP\\AppData\\Local\\Temp\\ipykernel_14180\\1602800353.py:2: PerformanceWarning: DataFrame is highly fragmented.  This is usually the result of calling `frame.insert` many times, which has poor performance.  Consider joining all columns at once using pd.concat(axis=1) instead. To get a de-fragmented frame, use `newframe = frame.copy()`\n",
      "  df_test[new_columns] = encoder.transform(df_test[columns_categorical])\n",
      "C:\\Users\\HP\\AppData\\Local\\Temp\\ipykernel_14180\\1602800353.py:2: PerformanceWarning: DataFrame is highly fragmented.  This is usually the result of calling `frame.insert` many times, which has poor performance.  Consider joining all columns at once using pd.concat(axis=1) instead. To get a de-fragmented frame, use `newframe = frame.copy()`\n",
      "  df_test[new_columns] = encoder.transform(df_test[columns_categorical])\n",
      "C:\\Users\\HP\\AppData\\Local\\Temp\\ipykernel_14180\\1602800353.py:2: PerformanceWarning: DataFrame is highly fragmented.  This is usually the result of calling `frame.insert` many times, which has poor performance.  Consider joining all columns at once using pd.concat(axis=1) instead. To get a de-fragmented frame, use `newframe = frame.copy()`\n",
      "  df_test[new_columns] = encoder.transform(df_test[columns_categorical])\n",
      "C:\\Users\\HP\\AppData\\Local\\Temp\\ipykernel_14180\\1602800353.py:2: PerformanceWarning: DataFrame is highly fragmented.  This is usually the result of calling `frame.insert` many times, which has poor performance.  Consider joining all columns at once using pd.concat(axis=1) instead. To get a de-fragmented frame, use `newframe = frame.copy()`\n",
      "  df_test[new_columns] = encoder.transform(df_test[columns_categorical])\n",
      "C:\\Users\\HP\\AppData\\Local\\Temp\\ipykernel_14180\\1602800353.py:2: PerformanceWarning: DataFrame is highly fragmented.  This is usually the result of calling `frame.insert` many times, which has poor performance.  Consider joining all columns at once using pd.concat(axis=1) instead. To get a de-fragmented frame, use `newframe = frame.copy()`\n",
      "  df_test[new_columns] = encoder.transform(df_test[columns_categorical])\n",
      "C:\\Users\\HP\\AppData\\Local\\Temp\\ipykernel_14180\\1602800353.py:2: PerformanceWarning: DataFrame is highly fragmented.  This is usually the result of calling `frame.insert` many times, which has poor performance.  Consider joining all columns at once using pd.concat(axis=1) instead. To get a de-fragmented frame, use `newframe = frame.copy()`\n",
      "  df_test[new_columns] = encoder.transform(df_test[columns_categorical])\n",
      "C:\\Users\\HP\\AppData\\Local\\Temp\\ipykernel_14180\\1602800353.py:2: PerformanceWarning: DataFrame is highly fragmented.  This is usually the result of calling `frame.insert` many times, which has poor performance.  Consider joining all columns at once using pd.concat(axis=1) instead. To get a de-fragmented frame, use `newframe = frame.copy()`\n",
      "  df_test[new_columns] = encoder.transform(df_test[columns_categorical])\n",
      "C:\\Users\\HP\\AppData\\Local\\Temp\\ipykernel_14180\\1602800353.py:2: PerformanceWarning: DataFrame is highly fragmented.  This is usually the result of calling `frame.insert` many times, which has poor performance.  Consider joining all columns at once using pd.concat(axis=1) instead. To get a de-fragmented frame, use `newframe = frame.copy()`\n",
      "  df_test[new_columns] = encoder.transform(df_test[columns_categorical])\n",
      "C:\\Users\\HP\\AppData\\Local\\Temp\\ipykernel_14180\\1602800353.py:2: PerformanceWarning: DataFrame is highly fragmented.  This is usually the result of calling `frame.insert` many times, which has poor performance.  Consider joining all columns at once using pd.concat(axis=1) instead. To get a de-fragmented frame, use `newframe = frame.copy()`\n",
      "  df_test[new_columns] = encoder.transform(df_test[columns_categorical])\n",
      "C:\\Users\\HP\\AppData\\Local\\Temp\\ipykernel_14180\\1602800353.py:2: PerformanceWarning: DataFrame is highly fragmented.  This is usually the result of calling `frame.insert` many times, which has poor performance.  Consider joining all columns at once using pd.concat(axis=1) instead. To get a de-fragmented frame, use `newframe = frame.copy()`\n",
      "  df_test[new_columns] = encoder.transform(df_test[columns_categorical])\n",
      "C:\\Users\\HP\\AppData\\Local\\Temp\\ipykernel_14180\\1602800353.py:2: PerformanceWarning: DataFrame is highly fragmented.  This is usually the result of calling `frame.insert` many times, which has poor performance.  Consider joining all columns at once using pd.concat(axis=1) instead. To get a de-fragmented frame, use `newframe = frame.copy()`\n",
      "  df_test[new_columns] = encoder.transform(df_test[columns_categorical])\n",
      "C:\\Users\\HP\\AppData\\Local\\Temp\\ipykernel_14180\\1602800353.py:2: PerformanceWarning: DataFrame is highly fragmented.  This is usually the result of calling `frame.insert` many times, which has poor performance.  Consider joining all columns at once using pd.concat(axis=1) instead. To get a de-fragmented frame, use `newframe = frame.copy()`\n",
      "  df_test[new_columns] = encoder.transform(df_test[columns_categorical])\n",
      "C:\\Users\\HP\\AppData\\Local\\Temp\\ipykernel_14180\\1602800353.py:2: PerformanceWarning: DataFrame is highly fragmented.  This is usually the result of calling `frame.insert` many times, which has poor performance.  Consider joining all columns at once using pd.concat(axis=1) instead. To get a de-fragmented frame, use `newframe = frame.copy()`\n",
      "  df_test[new_columns] = encoder.transform(df_test[columns_categorical])\n",
      "C:\\Users\\HP\\AppData\\Local\\Temp\\ipykernel_14180\\1602800353.py:2: PerformanceWarning: DataFrame is highly fragmented.  This is usually the result of calling `frame.insert` many times, which has poor performance.  Consider joining all columns at once using pd.concat(axis=1) instead. To get a de-fragmented frame, use `newframe = frame.copy()`\n",
      "  df_test[new_columns] = encoder.transform(df_test[columns_categorical])\n",
      "C:\\Users\\HP\\AppData\\Local\\Temp\\ipykernel_14180\\1602800353.py:2: PerformanceWarning: DataFrame is highly fragmented.  This is usually the result of calling `frame.insert` many times, which has poor performance.  Consider joining all columns at once using pd.concat(axis=1) instead. To get a de-fragmented frame, use `newframe = frame.copy()`\n",
      "  df_test[new_columns] = encoder.transform(df_test[columns_categorical])\n",
      "C:\\Users\\HP\\AppData\\Local\\Temp\\ipykernel_14180\\1602800353.py:2: PerformanceWarning: DataFrame is highly fragmented.  This is usually the result of calling `frame.insert` many times, which has poor performance.  Consider joining all columns at once using pd.concat(axis=1) instead. To get a de-fragmented frame, use `newframe = frame.copy()`\n",
      "  df_test[new_columns] = encoder.transform(df_test[columns_categorical])\n",
      "C:\\Users\\HP\\AppData\\Local\\Temp\\ipykernel_14180\\1602800353.py:2: PerformanceWarning: DataFrame is highly fragmented.  This is usually the result of calling `frame.insert` many times, which has poor performance.  Consider joining all columns at once using pd.concat(axis=1) instead. To get a de-fragmented frame, use `newframe = frame.copy()`\n",
      "  df_test[new_columns] = encoder.transform(df_test[columns_categorical])\n",
      "C:\\Users\\HP\\AppData\\Local\\Temp\\ipykernel_14180\\1602800353.py:2: PerformanceWarning: DataFrame is highly fragmented.  This is usually the result of calling `frame.insert` many times, which has poor performance.  Consider joining all columns at once using pd.concat(axis=1) instead. To get a de-fragmented frame, use `newframe = frame.copy()`\n",
      "  df_test[new_columns] = encoder.transform(df_test[columns_categorical])\n",
      "C:\\Users\\HP\\AppData\\Local\\Temp\\ipykernel_14180\\1602800353.py:2: PerformanceWarning: DataFrame is highly fragmented.  This is usually the result of calling `frame.insert` many times, which has poor performance.  Consider joining all columns at once using pd.concat(axis=1) instead. To get a de-fragmented frame, use `newframe = frame.copy()`\n",
      "  df_test[new_columns] = encoder.transform(df_test[columns_categorical])\n",
      "C:\\Users\\HP\\AppData\\Local\\Temp\\ipykernel_14180\\1602800353.py:2: PerformanceWarning: DataFrame is highly fragmented.  This is usually the result of calling `frame.insert` many times, which has poor performance.  Consider joining all columns at once using pd.concat(axis=1) instead. To get a de-fragmented frame, use `newframe = frame.copy()`\n",
      "  df_test[new_columns] = encoder.transform(df_test[columns_categorical])\n",
      "C:\\Users\\HP\\AppData\\Local\\Temp\\ipykernel_14180\\1602800353.py:2: PerformanceWarning: DataFrame is highly fragmented.  This is usually the result of calling `frame.insert` many times, which has poor performance.  Consider joining all columns at once using pd.concat(axis=1) instead. To get a de-fragmented frame, use `newframe = frame.copy()`\n",
      "  df_test[new_columns] = encoder.transform(df_test[columns_categorical])\n",
      "C:\\Users\\HP\\AppData\\Local\\Temp\\ipykernel_14180\\1602800353.py:2: PerformanceWarning: DataFrame is highly fragmented.  This is usually the result of calling `frame.insert` many times, which has poor performance.  Consider joining all columns at once using pd.concat(axis=1) instead. To get a de-fragmented frame, use `newframe = frame.copy()`\n",
      "  df_test[new_columns] = encoder.transform(df_test[columns_categorical])\n",
      "C:\\Users\\HP\\AppData\\Local\\Temp\\ipykernel_14180\\1602800353.py:2: PerformanceWarning: DataFrame is highly fragmented.  This is usually the result of calling `frame.insert` many times, which has poor performance.  Consider joining all columns at once using pd.concat(axis=1) instead. To get a de-fragmented frame, use `newframe = frame.copy()`\n",
      "  df_test[new_columns] = encoder.transform(df_test[columns_categorical])\n",
      "C:\\Users\\HP\\AppData\\Local\\Temp\\ipykernel_14180\\1602800353.py:2: PerformanceWarning: DataFrame is highly fragmented.  This is usually the result of calling `frame.insert` many times, which has poor performance.  Consider joining all columns at once using pd.concat(axis=1) instead. To get a de-fragmented frame, use `newframe = frame.copy()`\n",
      "  df_test[new_columns] = encoder.transform(df_test[columns_categorical])\n",
      "C:\\Users\\HP\\AppData\\Local\\Temp\\ipykernel_14180\\1602800353.py:2: PerformanceWarning: DataFrame is highly fragmented.  This is usually the result of calling `frame.insert` many times, which has poor performance.  Consider joining all columns at once using pd.concat(axis=1) instead. To get a de-fragmented frame, use `newframe = frame.copy()`\n",
      "  df_test[new_columns] = encoder.transform(df_test[columns_categorical])\n",
      "C:\\Users\\HP\\AppData\\Local\\Temp\\ipykernel_14180\\1602800353.py:2: PerformanceWarning: DataFrame is highly fragmented.  This is usually the result of calling `frame.insert` many times, which has poor performance.  Consider joining all columns at once using pd.concat(axis=1) instead. To get a de-fragmented frame, use `newframe = frame.copy()`\n",
      "  df_test[new_columns] = encoder.transform(df_test[columns_categorical])\n",
      "C:\\Users\\HP\\AppData\\Local\\Temp\\ipykernel_14180\\1602800353.py:2: PerformanceWarning: DataFrame is highly fragmented.  This is usually the result of calling `frame.insert` many times, which has poor performance.  Consider joining all columns at once using pd.concat(axis=1) instead. To get a de-fragmented frame, use `newframe = frame.copy()`\n",
      "  df_test[new_columns] = encoder.transform(df_test[columns_categorical])\n",
      "C:\\Users\\HP\\AppData\\Local\\Temp\\ipykernel_14180\\1602800353.py:2: PerformanceWarning: DataFrame is highly fragmented.  This is usually the result of calling `frame.insert` many times, which has poor performance.  Consider joining all columns at once using pd.concat(axis=1) instead. To get a de-fragmented frame, use `newframe = frame.copy()`\n",
      "  df_test[new_columns] = encoder.transform(df_test[columns_categorical])\n",
      "C:\\Users\\HP\\AppData\\Local\\Temp\\ipykernel_14180\\1602800353.py:2: PerformanceWarning: DataFrame is highly fragmented.  This is usually the result of calling `frame.insert` many times, which has poor performance.  Consider joining all columns at once using pd.concat(axis=1) instead. To get a de-fragmented frame, use `newframe = frame.copy()`\n",
      "  df_test[new_columns] = encoder.transform(df_test[columns_categorical])\n",
      "C:\\Users\\HP\\AppData\\Local\\Temp\\ipykernel_14180\\1602800353.py:2: PerformanceWarning: DataFrame is highly fragmented.  This is usually the result of calling `frame.insert` many times, which has poor performance.  Consider joining all columns at once using pd.concat(axis=1) instead. To get a de-fragmented frame, use `newframe = frame.copy()`\n",
      "  df_test[new_columns] = encoder.transform(df_test[columns_categorical])\n",
      "C:\\Users\\HP\\AppData\\Local\\Temp\\ipykernel_14180\\1602800353.py:2: PerformanceWarning: DataFrame is highly fragmented.  This is usually the result of calling `frame.insert` many times, which has poor performance.  Consider joining all columns at once using pd.concat(axis=1) instead. To get a de-fragmented frame, use `newframe = frame.copy()`\n",
      "  df_test[new_columns] = encoder.transform(df_test[columns_categorical])\n",
      "C:\\Users\\HP\\AppData\\Local\\Temp\\ipykernel_14180\\1602800353.py:2: PerformanceWarning: DataFrame is highly fragmented.  This is usually the result of calling `frame.insert` many times, which has poor performance.  Consider joining all columns at once using pd.concat(axis=1) instead. To get a de-fragmented frame, use `newframe = frame.copy()`\n",
      "  df_test[new_columns] = encoder.transform(df_test[columns_categorical])\n",
      "C:\\Users\\HP\\AppData\\Local\\Temp\\ipykernel_14180\\1602800353.py:2: PerformanceWarning: DataFrame is highly fragmented.  This is usually the result of calling `frame.insert` many times, which has poor performance.  Consider joining all columns at once using pd.concat(axis=1) instead. To get a de-fragmented frame, use `newframe = frame.copy()`\n",
      "  df_test[new_columns] = encoder.transform(df_test[columns_categorical])\n",
      "C:\\Users\\HP\\AppData\\Local\\Temp\\ipykernel_14180\\1602800353.py:2: PerformanceWarning: DataFrame is highly fragmented.  This is usually the result of calling `frame.insert` many times, which has poor performance.  Consider joining all columns at once using pd.concat(axis=1) instead. To get a de-fragmented frame, use `newframe = frame.copy()`\n",
      "  df_test[new_columns] = encoder.transform(df_test[columns_categorical])\n",
      "C:\\Users\\HP\\AppData\\Local\\Temp\\ipykernel_14180\\1602800353.py:2: PerformanceWarning: DataFrame is highly fragmented.  This is usually the result of calling `frame.insert` many times, which has poor performance.  Consider joining all columns at once using pd.concat(axis=1) instead. To get a de-fragmented frame, use `newframe = frame.copy()`\n",
      "  df_test[new_columns] = encoder.transform(df_test[columns_categorical])\n",
      "C:\\Users\\HP\\AppData\\Local\\Temp\\ipykernel_14180\\1602800353.py:2: PerformanceWarning: DataFrame is highly fragmented.  This is usually the result of calling `frame.insert` many times, which has poor performance.  Consider joining all columns at once using pd.concat(axis=1) instead. To get a de-fragmented frame, use `newframe = frame.copy()`\n",
      "  df_test[new_columns] = encoder.transform(df_test[columns_categorical])\n",
      "C:\\Users\\HP\\AppData\\Local\\Temp\\ipykernel_14180\\1602800353.py:2: PerformanceWarning: DataFrame is highly fragmented.  This is usually the result of calling `frame.insert` many times, which has poor performance.  Consider joining all columns at once using pd.concat(axis=1) instead. To get a de-fragmented frame, use `newframe = frame.copy()`\n",
      "  df_test[new_columns] = encoder.transform(df_test[columns_categorical])\n",
      "C:\\Users\\HP\\AppData\\Local\\Temp\\ipykernel_14180\\1602800353.py:2: PerformanceWarning: DataFrame is highly fragmented.  This is usually the result of calling `frame.insert` many times, which has poor performance.  Consider joining all columns at once using pd.concat(axis=1) instead. To get a de-fragmented frame, use `newframe = frame.copy()`\n",
      "  df_test[new_columns] = encoder.transform(df_test[columns_categorical])\n",
      "C:\\Users\\HP\\AppData\\Local\\Temp\\ipykernel_14180\\1602800353.py:2: PerformanceWarning: DataFrame is highly fragmented.  This is usually the result of calling `frame.insert` many times, which has poor performance.  Consider joining all columns at once using pd.concat(axis=1) instead. To get a de-fragmented frame, use `newframe = frame.copy()`\n",
      "  df_test[new_columns] = encoder.transform(df_test[columns_categorical])\n",
      "C:\\Users\\HP\\AppData\\Local\\Temp\\ipykernel_14180\\1602800353.py:2: PerformanceWarning: DataFrame is highly fragmented.  This is usually the result of calling `frame.insert` many times, which has poor performance.  Consider joining all columns at once using pd.concat(axis=1) instead. To get a de-fragmented frame, use `newframe = frame.copy()`\n",
      "  df_test[new_columns] = encoder.transform(df_test[columns_categorical])\n",
      "C:\\Users\\HP\\AppData\\Local\\Temp\\ipykernel_14180\\1602800353.py:2: PerformanceWarning: DataFrame is highly fragmented.  This is usually the result of calling `frame.insert` many times, which has poor performance.  Consider joining all columns at once using pd.concat(axis=1) instead. To get a de-fragmented frame, use `newframe = frame.copy()`\n",
      "  df_test[new_columns] = encoder.transform(df_test[columns_categorical])\n",
      "C:\\Users\\HP\\AppData\\Local\\Temp\\ipykernel_14180\\1602800353.py:2: PerformanceWarning: DataFrame is highly fragmented.  This is usually the result of calling `frame.insert` many times, which has poor performance.  Consider joining all columns at once using pd.concat(axis=1) instead. To get a de-fragmented frame, use `newframe = frame.copy()`\n",
      "  df_test[new_columns] = encoder.transform(df_test[columns_categorical])\n",
      "C:\\Users\\HP\\AppData\\Local\\Temp\\ipykernel_14180\\1602800353.py:2: PerformanceWarning: DataFrame is highly fragmented.  This is usually the result of calling `frame.insert` many times, which has poor performance.  Consider joining all columns at once using pd.concat(axis=1) instead. To get a de-fragmented frame, use `newframe = frame.copy()`\n",
      "  df_test[new_columns] = encoder.transform(df_test[columns_categorical])\n",
      "C:\\Users\\HP\\AppData\\Local\\Temp\\ipykernel_14180\\1602800353.py:2: PerformanceWarning: DataFrame is highly fragmented.  This is usually the result of calling `frame.insert` many times, which has poor performance.  Consider joining all columns at once using pd.concat(axis=1) instead. To get a de-fragmented frame, use `newframe = frame.copy()`\n",
      "  df_test[new_columns] = encoder.transform(df_test[columns_categorical])\n",
      "C:\\Users\\HP\\AppData\\Local\\Temp\\ipykernel_14180\\1602800353.py:2: PerformanceWarning: DataFrame is highly fragmented.  This is usually the result of calling `frame.insert` many times, which has poor performance.  Consider joining all columns at once using pd.concat(axis=1) instead. To get a de-fragmented frame, use `newframe = frame.copy()`\n",
      "  df_test[new_columns] = encoder.transform(df_test[columns_categorical])\n",
      "C:\\Users\\HP\\AppData\\Local\\Temp\\ipykernel_14180\\1602800353.py:2: PerformanceWarning: DataFrame is highly fragmented.  This is usually the result of calling `frame.insert` many times, which has poor performance.  Consider joining all columns at once using pd.concat(axis=1) instead. To get a de-fragmented frame, use `newframe = frame.copy()`\n",
      "  df_test[new_columns] = encoder.transform(df_test[columns_categorical])\n",
      "C:\\Users\\HP\\AppData\\Local\\Temp\\ipykernel_14180\\1602800353.py:2: PerformanceWarning: DataFrame is highly fragmented.  This is usually the result of calling `frame.insert` many times, which has poor performance.  Consider joining all columns at once using pd.concat(axis=1) instead. To get a de-fragmented frame, use `newframe = frame.copy()`\n",
      "  df_test[new_columns] = encoder.transform(df_test[columns_categorical])\n",
      "C:\\Users\\HP\\AppData\\Local\\Temp\\ipykernel_14180\\1602800353.py:2: PerformanceWarning: DataFrame is highly fragmented.  This is usually the result of calling `frame.insert` many times, which has poor performance.  Consider joining all columns at once using pd.concat(axis=1) instead. To get a de-fragmented frame, use `newframe = frame.copy()`\n",
      "  df_test[new_columns] = encoder.transform(df_test[columns_categorical])\n",
      "C:\\Users\\HP\\AppData\\Local\\Temp\\ipykernel_14180\\1602800353.py:2: PerformanceWarning: DataFrame is highly fragmented.  This is usually the result of calling `frame.insert` many times, which has poor performance.  Consider joining all columns at once using pd.concat(axis=1) instead. To get a de-fragmented frame, use `newframe = frame.copy()`\n",
      "  df_test[new_columns] = encoder.transform(df_test[columns_categorical])\n",
      "C:\\Users\\HP\\AppData\\Local\\Temp\\ipykernel_14180\\1602800353.py:2: PerformanceWarning: DataFrame is highly fragmented.  This is usually the result of calling `frame.insert` many times, which has poor performance.  Consider joining all columns at once using pd.concat(axis=1) instead. To get a de-fragmented frame, use `newframe = frame.copy()`\n",
      "  df_test[new_columns] = encoder.transform(df_test[columns_categorical])\n",
      "C:\\Users\\HP\\AppData\\Local\\Temp\\ipykernel_14180\\1602800353.py:2: PerformanceWarning: DataFrame is highly fragmented.  This is usually the result of calling `frame.insert` many times, which has poor performance.  Consider joining all columns at once using pd.concat(axis=1) instead. To get a de-fragmented frame, use `newframe = frame.copy()`\n",
      "  df_test[new_columns] = encoder.transform(df_test[columns_categorical])\n",
      "C:\\Users\\HP\\AppData\\Local\\Temp\\ipykernel_14180\\1602800353.py:2: PerformanceWarning: DataFrame is highly fragmented.  This is usually the result of calling `frame.insert` many times, which has poor performance.  Consider joining all columns at once using pd.concat(axis=1) instead. To get a de-fragmented frame, use `newframe = frame.copy()`\n",
      "  df_test[new_columns] = encoder.transform(df_test[columns_categorical])\n",
      "C:\\Users\\HP\\AppData\\Local\\Temp\\ipykernel_14180\\1602800353.py:2: PerformanceWarning: DataFrame is highly fragmented.  This is usually the result of calling `frame.insert` many times, which has poor performance.  Consider joining all columns at once using pd.concat(axis=1) instead. To get a de-fragmented frame, use `newframe = frame.copy()`\n",
      "  df_test[new_columns] = encoder.transform(df_test[columns_categorical])\n",
      "C:\\Users\\HP\\AppData\\Local\\Temp\\ipykernel_14180\\1602800353.py:2: PerformanceWarning: DataFrame is highly fragmented.  This is usually the result of calling `frame.insert` many times, which has poor performance.  Consider joining all columns at once using pd.concat(axis=1) instead. To get a de-fragmented frame, use `newframe = frame.copy()`\n",
      "  df_test[new_columns] = encoder.transform(df_test[columns_categorical])\n",
      "C:\\Users\\HP\\AppData\\Local\\Temp\\ipykernel_14180\\1602800353.py:2: PerformanceWarning: DataFrame is highly fragmented.  This is usually the result of calling `frame.insert` many times, which has poor performance.  Consider joining all columns at once using pd.concat(axis=1) instead. To get a de-fragmented frame, use `newframe = frame.copy()`\n",
      "  df_test[new_columns] = encoder.transform(df_test[columns_categorical])\n",
      "C:\\Users\\HP\\AppData\\Local\\Temp\\ipykernel_14180\\1602800353.py:2: PerformanceWarning: DataFrame is highly fragmented.  This is usually the result of calling `frame.insert` many times, which has poor performance.  Consider joining all columns at once using pd.concat(axis=1) instead. To get a de-fragmented frame, use `newframe = frame.copy()`\n",
      "  df_test[new_columns] = encoder.transform(df_test[columns_categorical])\n",
      "C:\\Users\\HP\\AppData\\Local\\Temp\\ipykernel_14180\\1602800353.py:2: PerformanceWarning: DataFrame is highly fragmented.  This is usually the result of calling `frame.insert` many times, which has poor performance.  Consider joining all columns at once using pd.concat(axis=1) instead. To get a de-fragmented frame, use `newframe = frame.copy()`\n",
      "  df_test[new_columns] = encoder.transform(df_test[columns_categorical])\n",
      "C:\\Users\\HP\\AppData\\Local\\Temp\\ipykernel_14180\\1602800353.py:2: PerformanceWarning: DataFrame is highly fragmented.  This is usually the result of calling `frame.insert` many times, which has poor performance.  Consider joining all columns at once using pd.concat(axis=1) instead. To get a de-fragmented frame, use `newframe = frame.copy()`\n",
      "  df_test[new_columns] = encoder.transform(df_test[columns_categorical])\n",
      "C:\\Users\\HP\\AppData\\Local\\Temp\\ipykernel_14180\\1602800353.py:2: PerformanceWarning: DataFrame is highly fragmented.  This is usually the result of calling `frame.insert` many times, which has poor performance.  Consider joining all columns at once using pd.concat(axis=1) instead. To get a de-fragmented frame, use `newframe = frame.copy()`\n",
      "  df_test[new_columns] = encoder.transform(df_test[columns_categorical])\n",
      "C:\\Users\\HP\\AppData\\Local\\Temp\\ipykernel_14180\\1602800353.py:2: PerformanceWarning: DataFrame is highly fragmented.  This is usually the result of calling `frame.insert` many times, which has poor performance.  Consider joining all columns at once using pd.concat(axis=1) instead. To get a de-fragmented frame, use `newframe = frame.copy()`\n",
      "  df_test[new_columns] = encoder.transform(df_test[columns_categorical])\n",
      "C:\\Users\\HP\\AppData\\Local\\Temp\\ipykernel_14180\\1602800353.py:2: PerformanceWarning: DataFrame is highly fragmented.  This is usually the result of calling `frame.insert` many times, which has poor performance.  Consider joining all columns at once using pd.concat(axis=1) instead. To get a de-fragmented frame, use `newframe = frame.copy()`\n",
      "  df_test[new_columns] = encoder.transform(df_test[columns_categorical])\n",
      "C:\\Users\\HP\\AppData\\Local\\Temp\\ipykernel_14180\\1602800353.py:2: PerformanceWarning: DataFrame is highly fragmented.  This is usually the result of calling `frame.insert` many times, which has poor performance.  Consider joining all columns at once using pd.concat(axis=1) instead. To get a de-fragmented frame, use `newframe = frame.copy()`\n",
      "  df_test[new_columns] = encoder.transform(df_test[columns_categorical])\n",
      "C:\\Users\\HP\\AppData\\Local\\Temp\\ipykernel_14180\\1602800353.py:2: PerformanceWarning: DataFrame is highly fragmented.  This is usually the result of calling `frame.insert` many times, which has poor performance.  Consider joining all columns at once using pd.concat(axis=1) instead. To get a de-fragmented frame, use `newframe = frame.copy()`\n",
      "  df_test[new_columns] = encoder.transform(df_test[columns_categorical])\n",
      "C:\\Users\\HP\\AppData\\Local\\Temp\\ipykernel_14180\\1602800353.py:2: PerformanceWarning: DataFrame is highly fragmented.  This is usually the result of calling `frame.insert` many times, which has poor performance.  Consider joining all columns at once using pd.concat(axis=1) instead. To get a de-fragmented frame, use `newframe = frame.copy()`\n",
      "  df_test[new_columns] = encoder.transform(df_test[columns_categorical])\n",
      "C:\\Users\\HP\\AppData\\Local\\Temp\\ipykernel_14180\\1602800353.py:2: PerformanceWarning: DataFrame is highly fragmented.  This is usually the result of calling `frame.insert` many times, which has poor performance.  Consider joining all columns at once using pd.concat(axis=1) instead. To get a de-fragmented frame, use `newframe = frame.copy()`\n",
      "  df_test[new_columns] = encoder.transform(df_test[columns_categorical])\n",
      "C:\\Users\\HP\\AppData\\Local\\Temp\\ipykernel_14180\\1602800353.py:2: PerformanceWarning: DataFrame is highly fragmented.  This is usually the result of calling `frame.insert` many times, which has poor performance.  Consider joining all columns at once using pd.concat(axis=1) instead. To get a de-fragmented frame, use `newframe = frame.copy()`\n",
      "  df_test[new_columns] = encoder.transform(df_test[columns_categorical])\n",
      "C:\\Users\\HP\\AppData\\Local\\Temp\\ipykernel_14180\\1602800353.py:2: PerformanceWarning: DataFrame is highly fragmented.  This is usually the result of calling `frame.insert` many times, which has poor performance.  Consider joining all columns at once using pd.concat(axis=1) instead. To get a de-fragmented frame, use `newframe = frame.copy()`\n",
      "  df_test[new_columns] = encoder.transform(df_test[columns_categorical])\n",
      "C:\\Users\\HP\\AppData\\Local\\Temp\\ipykernel_14180\\1602800353.py:2: PerformanceWarning: DataFrame is highly fragmented.  This is usually the result of calling `frame.insert` many times, which has poor performance.  Consider joining all columns at once using pd.concat(axis=1) instead. To get a de-fragmented frame, use `newframe = frame.copy()`\n",
      "  df_test[new_columns] = encoder.transform(df_test[columns_categorical])\n",
      "C:\\Users\\HP\\AppData\\Local\\Temp\\ipykernel_14180\\1602800353.py:2: PerformanceWarning: DataFrame is highly fragmented.  This is usually the result of calling `frame.insert` many times, which has poor performance.  Consider joining all columns at once using pd.concat(axis=1) instead. To get a de-fragmented frame, use `newframe = frame.copy()`\n",
      "  df_test[new_columns] = encoder.transform(df_test[columns_categorical])\n",
      "C:\\Users\\HP\\AppData\\Local\\Temp\\ipykernel_14180\\1602800353.py:2: PerformanceWarning: DataFrame is highly fragmented.  This is usually the result of calling `frame.insert` many times, which has poor performance.  Consider joining all columns at once using pd.concat(axis=1) instead. To get a de-fragmented frame, use `newframe = frame.copy()`\n",
      "  df_test[new_columns] = encoder.transform(df_test[columns_categorical])\n",
      "C:\\Users\\HP\\AppData\\Local\\Temp\\ipykernel_14180\\1602800353.py:2: PerformanceWarning: DataFrame is highly fragmented.  This is usually the result of calling `frame.insert` many times, which has poor performance.  Consider joining all columns at once using pd.concat(axis=1) instead. To get a de-fragmented frame, use `newframe = frame.copy()`\n",
      "  df_test[new_columns] = encoder.transform(df_test[columns_categorical])\n",
      "C:\\Users\\HP\\AppData\\Local\\Temp\\ipykernel_14180\\1602800353.py:2: PerformanceWarning: DataFrame is highly fragmented.  This is usually the result of calling `frame.insert` many times, which has poor performance.  Consider joining all columns at once using pd.concat(axis=1) instead. To get a de-fragmented frame, use `newframe = frame.copy()`\n",
      "  df_test[new_columns] = encoder.transform(df_test[columns_categorical])\n",
      "C:\\Users\\HP\\AppData\\Local\\Temp\\ipykernel_14180\\1602800353.py:2: PerformanceWarning: DataFrame is highly fragmented.  This is usually the result of calling `frame.insert` many times, which has poor performance.  Consider joining all columns at once using pd.concat(axis=1) instead. To get a de-fragmented frame, use `newframe = frame.copy()`\n",
      "  df_test[new_columns] = encoder.transform(df_test[columns_categorical])\n",
      "C:\\Users\\HP\\AppData\\Local\\Temp\\ipykernel_14180\\1602800353.py:2: PerformanceWarning: DataFrame is highly fragmented.  This is usually the result of calling `frame.insert` many times, which has poor performance.  Consider joining all columns at once using pd.concat(axis=1) instead. To get a de-fragmented frame, use `newframe = frame.copy()`\n",
      "  df_test[new_columns] = encoder.transform(df_test[columns_categorical])\n",
      "C:\\Users\\HP\\AppData\\Local\\Temp\\ipykernel_14180\\1602800353.py:2: PerformanceWarning: DataFrame is highly fragmented.  This is usually the result of calling `frame.insert` many times, which has poor performance.  Consider joining all columns at once using pd.concat(axis=1) instead. To get a de-fragmented frame, use `newframe = frame.copy()`\n",
      "  df_test[new_columns] = encoder.transform(df_test[columns_categorical])\n"
     ]
    }
   ],
   "source": [
    "df_train[new_columns] = encoder.transform(df_train[columns_categorical])\n",
    "df_test[new_columns] = encoder.transform(df_test[columns_categorical])"
   ]
  },
  {
   "cell_type": "code",
   "execution_count": 116,
   "id": "d5a4be0d",
   "metadata": {},
   "outputs": [
    {
     "data": {
      "text/plain": [
       "(1451, 333)"
      ]
     },
     "execution_count": 116,
     "metadata": {},
     "output_type": "execute_result"
    }
   ],
   "source": [
    "df_train.shape"
   ]
  },
  {
   "cell_type": "markdown",
   "id": "b44aae8e",
   "metadata": {},
   "source": [
    "# Feature Scaling - Numeric"
   ]
  },
  {
   "cell_type": "code",
   "execution_count": 16,
   "id": "88362b33",
   "metadata": {},
   "outputs": [],
   "source": [
    "from sklearn.preprocessing import MinMaxScaler\n",
    "scaler = MinMaxScaler()\n",
    "scaler.fit(df_train[columns_numeric])\n",
    "df_train[columns_numeric] = scaler.transform(df_train[columns_numeric])\n",
    "df_test[columns_numeric] = scaler.transform(df_test[columns_numeric])"
   ]
  },
  {
   "cell_type": "code",
   "execution_count": 17,
   "id": "01415ea9",
   "metadata": {},
   "outputs": [],
   "source": [
    "columns_selected = columns_numeric + new_columns\n",
    "X_train = df_train[columns_selected]\n",
    "y_train = df_train['SalePrice']\n",
    "X_test = df_test[columns_selected]"
   ]
  },
  {
   "cell_type": "code",
   "execution_count": 18,
   "id": "9f6a5524",
   "metadata": {},
   "outputs": [
    {
     "data": {
      "text/plain": [
       "288"
      ]
     },
     "execution_count": 18,
     "metadata": {},
     "output_type": "execute_result"
    }
   ],
   "source": [
    "len(columns_selected)"
   ]
  },
  {
   "cell_type": "code",
   "execution_count": 19,
   "id": "d62f6339",
   "metadata": {},
   "outputs": [
    {
     "data": {
      "text/plain": [
       "((1451, 333), (1459, 332))"
      ]
     },
     "execution_count": 19,
     "metadata": {},
     "output_type": "execute_result"
    }
   ],
   "source": [
    "df_train.shape,df_test.shape"
   ]
  },
  {
   "cell_type": "code",
   "execution_count": 121,
   "id": "fa064976",
   "metadata": {},
   "outputs": [
    {
     "name": "stdout",
     "output_type": "stream",
     "text": [
      "<class 'pandas.core.frame.DataFrame'>\n",
      "Int64Index: 1451 entries, 0 to 1459\n",
      "Columns: 333 entries, Id to SaleCondition_Partial\n",
      "dtypes: float64(288), int64(2), object(43)\n",
      "memory usage: 3.7+ MB\n"
     ]
    }
   ],
   "source": [
    "df_train.info()"
   ]
  },
  {
   "cell_type": "markdown",
   "id": "cdb6fae8",
   "metadata": {},
   "source": [
    "# Feature Reduction - PCA"
   ]
  },
  {
   "cell_type": "code",
   "execution_count": 20,
   "id": "5bb1f288",
   "metadata": {},
   "outputs": [
    {
     "data": {
      "text/html": [
       "<style>#sk-container-id-2 {color: black;background-color: white;}#sk-container-id-2 pre{padding: 0;}#sk-container-id-2 div.sk-toggleable {background-color: white;}#sk-container-id-2 label.sk-toggleable__label {cursor: pointer;display: block;width: 100%;margin-bottom: 0;padding: 0.3em;box-sizing: border-box;text-align: center;}#sk-container-id-2 label.sk-toggleable__label-arrow:before {content: \"▸\";float: left;margin-right: 0.25em;color: #696969;}#sk-container-id-2 label.sk-toggleable__label-arrow:hover:before {color: black;}#sk-container-id-2 div.sk-estimator:hover label.sk-toggleable__label-arrow:before {color: black;}#sk-container-id-2 div.sk-toggleable__content {max-height: 0;max-width: 0;overflow: hidden;text-align: left;background-color: #f0f8ff;}#sk-container-id-2 div.sk-toggleable__content pre {margin: 0.2em;color: black;border-radius: 0.25em;background-color: #f0f8ff;}#sk-container-id-2 input.sk-toggleable__control:checked~div.sk-toggleable__content {max-height: 200px;max-width: 100%;overflow: auto;}#sk-container-id-2 input.sk-toggleable__control:checked~label.sk-toggleable__label-arrow:before {content: \"▾\";}#sk-container-id-2 div.sk-estimator input.sk-toggleable__control:checked~label.sk-toggleable__label {background-color: #d4ebff;}#sk-container-id-2 div.sk-label input.sk-toggleable__control:checked~label.sk-toggleable__label {background-color: #d4ebff;}#sk-container-id-2 input.sk-hidden--visually {border: 0;clip: rect(1px 1px 1px 1px);clip: rect(1px, 1px, 1px, 1px);height: 1px;margin: -1px;overflow: hidden;padding: 0;position: absolute;width: 1px;}#sk-container-id-2 div.sk-estimator {font-family: monospace;background-color: #f0f8ff;border: 1px dotted black;border-radius: 0.25em;box-sizing: border-box;margin-bottom: 0.5em;}#sk-container-id-2 div.sk-estimator:hover {background-color: #d4ebff;}#sk-container-id-2 div.sk-parallel-item::after {content: \"\";width: 100%;border-bottom: 1px solid gray;flex-grow: 1;}#sk-container-id-2 div.sk-label:hover label.sk-toggleable__label {background-color: #d4ebff;}#sk-container-id-2 div.sk-serial::before {content: \"\";position: absolute;border-left: 1px solid gray;box-sizing: border-box;top: 0;bottom: 0;left: 50%;z-index: 0;}#sk-container-id-2 div.sk-serial {display: flex;flex-direction: column;align-items: center;background-color: white;padding-right: 0.2em;padding-left: 0.2em;position: relative;}#sk-container-id-2 div.sk-item {position: relative;z-index: 1;}#sk-container-id-2 div.sk-parallel {display: flex;align-items: stretch;justify-content: center;background-color: white;position: relative;}#sk-container-id-2 div.sk-item::before, #sk-container-id-2 div.sk-parallel-item::before {content: \"\";position: absolute;border-left: 1px solid gray;box-sizing: border-box;top: 0;bottom: 0;left: 50%;z-index: -1;}#sk-container-id-2 div.sk-parallel-item {display: flex;flex-direction: column;z-index: 1;position: relative;background-color: white;}#sk-container-id-2 div.sk-parallel-item:first-child::after {align-self: flex-end;width: 50%;}#sk-container-id-2 div.sk-parallel-item:last-child::after {align-self: flex-start;width: 50%;}#sk-container-id-2 div.sk-parallel-item:only-child::after {width: 0;}#sk-container-id-2 div.sk-dashed-wrapped {border: 1px dashed gray;margin: 0 0.4em 0.5em 0.4em;box-sizing: border-box;padding-bottom: 0.4em;background-color: white;}#sk-container-id-2 div.sk-label label {font-family: monospace;font-weight: bold;display: inline-block;line-height: 1.2em;}#sk-container-id-2 div.sk-label-container {text-align: center;}#sk-container-id-2 div.sk-container {/* jupyter's `normalize.less` sets `[hidden] { display: none; }` but bootstrap.min.css set `[hidden] { display: none !important; }` so we also need the `!important` here to be able to override the default hidden behavior on the sphinx rendered scikit-learn.org. See: https://github.com/scikit-learn/scikit-learn/issues/21755 */display: inline-block !important;position: relative;}#sk-container-id-2 div.sk-text-repr-fallback {display: none;}</style><div id=\"sk-container-id-2\" class=\"sk-top-container\"><div class=\"sk-text-repr-fallback\"><pre>PCA(n_components=0.9)</pre><b>In a Jupyter environment, please rerun this cell to show the HTML representation or trust the notebook. <br />On GitHub, the HTML representation is unable to render, please try loading this page with nbviewer.org.</b></div><div class=\"sk-container\" hidden><div class=\"sk-item\"><div class=\"sk-estimator sk-toggleable\"><input class=\"sk-toggleable__control sk-hidden--visually\" id=\"sk-estimator-id-2\" type=\"checkbox\" checked><label for=\"sk-estimator-id-2\" class=\"sk-toggleable__label sk-toggleable__label-arrow\">PCA</label><div class=\"sk-toggleable__content\"><pre>PCA(n_components=0.9)</pre></div></div></div></div></div>"
      ],
      "text/plain": [
       "PCA(n_components=0.9)"
      ]
     },
     "execution_count": 20,
     "metadata": {},
     "output_type": "execute_result"
    }
   ],
   "source": [
    "from sklearn.decomposition import PCA\n",
    "pca = PCA(n_components=0.90)\n",
    "pca.fit(X_train)  # Finds out principal components (Eigen Vectors)"
   ]
  },
  {
   "cell_type": "code",
   "execution_count": 21,
   "id": "649ecfd7",
   "metadata": {},
   "outputs": [
    {
     "data": {
      "text/plain": [
       "75"
      ]
     },
     "execution_count": 21,
     "metadata": {},
     "output_type": "execute_result"
    }
   ],
   "source": [
    "pca.n_components_"
   ]
  },
  {
   "cell_type": "code",
   "execution_count": 22,
   "id": "da390269",
   "metadata": {},
   "outputs": [],
   "source": [
    "X_train_red = pca.transform(X_train)\n",
    "X_test_red = pca.transform(X_test)"
   ]
  },
  {
   "cell_type": "code",
   "execution_count": 23,
   "id": "13d64342",
   "metadata": {},
   "outputs": [
    {
     "data": {
      "text/plain": [
       "((1451, 333), (1459, 332))"
      ]
     },
     "execution_count": 23,
     "metadata": {},
     "output_type": "execute_result"
    }
   ],
   "source": [
    "df_train.shape,df_test.shape"
   ]
  },
  {
   "cell_type": "markdown",
   "id": "40dd3f13",
   "metadata": {},
   "source": [
    "# Drop"
   ]
  },
  {
   "cell_type": "code",
   "execution_count": 24,
   "id": "e238289e",
   "metadata": {},
   "outputs": [],
   "source": [
    "df_train.drop(['Alley'],axis=1,inplace=True)\n",
    "df_train.drop(['GarageYrBlt'],axis=1,inplace=True)\n",
    "df_train.drop(['Id'],axis=1,inplace=True)\n",
    "df_train.drop(['PoolQC','Fence','MiscFeature'],axis=1,inplace=True)"
   ]
  },
  {
   "cell_type": "code",
   "execution_count": 25,
   "id": "e6f4413d",
   "metadata": {},
   "outputs": [],
   "source": [
    "df_train.dropna(inplace=True)"
   ]
  },
  {
   "cell_type": "code",
   "execution_count": 26,
   "id": "b88ce030",
   "metadata": {},
   "outputs": [
    {
     "data": {
      "text/plain": [
       "((1451, 327), (1459, 332))"
      ]
     },
     "execution_count": 26,
     "metadata": {},
     "output_type": "execute_result"
    }
   ],
   "source": [
    "df_train.shape,df_test.shape"
   ]
  },
  {
   "cell_type": "markdown",
   "id": "58804bde",
   "metadata": {},
   "source": [
    "# Model Building"
   ]
  },
  {
   "cell_type": "code",
   "execution_count": 25,
   "id": "baa23b01",
   "metadata": {},
   "outputs": [
    {
     "data": {
      "text/plain": [
       "-0.04692038100073792"
      ]
     },
     "execution_count": 25,
     "metadata": {},
     "output_type": "execute_result"
    }
   ],
   "source": [
    "from sklearn.svm import SVR\n",
    "model = SVR(kernel='rbf')\n",
    "model.fit(X_train_red,y_train)\n",
    "model.score(X_train_red,y_train)"
   ]
  },
  {
   "cell_type": "code",
   "execution_count": 26,
   "id": "5c7a2283",
   "metadata": {},
   "outputs": [],
   "source": [
    "yp = model.predict(X_test_red)"
   ]
  },
  {
   "cell_type": "code",
   "execution_count": 27,
   "id": "ba06f458",
   "metadata": {},
   "outputs": [],
   "source": [
    "df_submit = pd.DataFrame({'Id':df_test['Id'],'SalePrice':yp})"
   ]
  },
  {
   "cell_type": "code",
   "execution_count": 28,
   "id": "a47562c3",
   "metadata": {},
   "outputs": [],
   "source": [
    "df_submit.to_csv('a.csv',index=False)"
   ]
  },
  {
   "cell_type": "code",
   "execution_count": 29,
   "id": "9504d330",
   "metadata": {},
   "outputs": [
    {
     "data": {
      "text/plain": [
       "0.9652223166942127"
      ]
     },
     "execution_count": 29,
     "metadata": {},
     "output_type": "execute_result"
    }
   ],
   "source": [
    "from sklearn.ensemble import RandomForestRegressor\n",
    "model = RandomForestRegressor()\n",
    "model.fit(X_train_red,y_train)\n",
    "model.score(X_train_red,y_train)"
   ]
  },
  {
   "cell_type": "code",
   "execution_count": 30,
   "id": "0c3852f8",
   "metadata": {},
   "outputs": [],
   "source": [
    "yp = model.predict(X_test_red)"
   ]
  },
  {
   "cell_type": "code",
   "execution_count": 31,
   "id": "74dab22b",
   "metadata": {},
   "outputs": [],
   "source": [
    "df_submit = pd.DataFrame({'Id':df_test['Id'],'SalePrice':yp})"
   ]
  },
  {
   "cell_type": "code",
   "execution_count": 32,
   "id": "32832bc4",
   "metadata": {},
   "outputs": [],
   "source": [
    "df_submit.to_csv('b.csv',index=False)"
   ]
  },
  {
   "cell_type": "code",
   "execution_count": 87,
   "id": "90163b11",
   "metadata": {},
   "outputs": [],
   "source": [
    "import xgboost as xgb\n",
    "from sklearn.preprocessing import LabelEncoder\n",
    "le = LabelEncoder()\n",
    "y_train = le.fit_transform(y_train)"
   ]
  },
  {
   "cell_type": "code",
   "execution_count": 96,
   "id": "5d9421e5",
   "metadata": {},
   "outputs": [
    {
     "data": {
      "text/plain": [
       "0.9965541006202618"
      ]
     },
     "execution_count": 96,
     "metadata": {},
     "output_type": "execute_result"
    }
   ],
   "source": [
    "model=xgb.XGBClassifier()\n",
    "model.fit(X_train_red,y_train)\n",
    "model.score(X_train_red,y_train)"
   ]
  },
  {
   "cell_type": "code",
   "execution_count": 89,
   "id": "5d5216d6",
   "metadata": {},
   "outputs": [],
   "source": [
    "yp = model.predict(X_test_red)"
   ]
  },
  {
   "cell_type": "code",
   "execution_count": 90,
   "id": "6585b501",
   "metadata": {},
   "outputs": [],
   "source": [
    "df_submit = pd.DataFrame({'Id':df_test['Id'],'SalePrice':yp})"
   ]
  },
  {
   "cell_type": "code",
   "execution_count": 91,
   "id": "ba1fc8f1",
   "metadata": {},
   "outputs": [],
   "source": [
    "df_submit.to_csv('sub11111.csv',index=False)"
   ]
  },
  {
   "cell_type": "code",
   "execution_count": 33,
   "id": "21b823c8",
   "metadata": {},
   "outputs": [
    {
     "data": {
      "text/plain": [
       "1.0"
      ]
     },
     "execution_count": 33,
     "metadata": {},
     "output_type": "execute_result"
    }
   ],
   "source": [
    "from sklearn.tree import DecisionTreeClassifier\n",
    "model=DecisionTreeClassifier()\n",
    "model.fit(X_train_red,y_train)\n",
    "model.score(X_train_red,y_train)"
   ]
  },
  {
   "cell_type": "code",
   "execution_count": 34,
   "id": "11a6674b",
   "metadata": {},
   "outputs": [],
   "source": [
    "yp = model.predict(X_test_red)"
   ]
  },
  {
   "cell_type": "code",
   "execution_count": 35,
   "id": "471a165e",
   "metadata": {},
   "outputs": [],
   "source": [
    "df_submit = pd.DataFrame({'Id':df_test['Id'],'SalePrice':yp})"
   ]
  },
  {
   "cell_type": "code",
   "execution_count": 36,
   "id": "df3ac76c",
   "metadata": {},
   "outputs": [],
   "source": [
    "df_submit.to_csv('su.csv',index=False)"
   ]
  },
  {
   "cell_type": "code",
   "execution_count": 134,
   "id": "d920b7d9",
   "metadata": {},
   "outputs": [
    {
     "data": {
      "text/plain": [
       "0.9999886169535849"
      ]
     },
     "execution_count": 134,
     "metadata": {},
     "output_type": "execute_result"
    }
   ],
   "source": [
    "import xgboost\n",
    "classifier=xgboost.XGBRegressor()\n",
    "classifier.fit(X_train_red,y_train)\n",
    "classifier.score(X_train_red,y_train)"
   ]
  },
  {
   "cell_type": "code",
   "execution_count": 135,
   "id": "2772614f",
   "metadata": {},
   "outputs": [],
   "source": [
    "yp = model.predict(X_test_red)"
   ]
  },
  {
   "cell_type": "code",
   "execution_count": 136,
   "id": "b656853d",
   "metadata": {},
   "outputs": [],
   "source": [
    "df_submit = pd.DataFrame({'Id':df_test['Id'],'SalePrice':yp})"
   ]
  },
  {
   "cell_type": "code",
   "execution_count": 137,
   "id": "c397d33d",
   "metadata": {},
   "outputs": [],
   "source": [
    "df_submit.to_csv('sub11144.csv',index=False)"
   ]
  },
  {
   "cell_type": "code",
   "execution_count": 28,
   "id": "9a9046f3",
   "metadata": {},
   "outputs": [
    {
     "data": {
      "text/plain": [
       "1.0"
      ]
     },
     "execution_count": 28,
     "metadata": {},
     "output_type": "execute_result"
    }
   ],
   "source": [
    "from sklearn.tree import DecisionTreeClassifier\n",
    "model=DecisionTreeClassifier()\n",
    "model.fit(X_train_red,y_train)\n",
    "model.score(X_train_red,y_train)"
   ]
  },
  {
   "cell_type": "code",
   "execution_count": 29,
   "id": "7d5cff28",
   "metadata": {},
   "outputs": [],
   "source": [
    "yp = model.predict(X_test_red)"
   ]
  },
  {
   "cell_type": "code",
   "execution_count": 30,
   "id": "76ac5564",
   "metadata": {},
   "outputs": [],
   "source": [
    "df_submit = pd.DataFrame({'Id':df_test['Id'],'SalePrice':yp})"
   ]
  },
  {
   "cell_type": "code",
   "execution_count": 31,
   "id": "64d90f70",
   "metadata": {},
   "outputs": [],
   "source": [
    "df_submit.to_csv('sub7.csv',index=False)"
   ]
  },
  {
   "cell_type": "code",
   "execution_count": 39,
   "id": "269d7d56",
   "metadata": {},
   "outputs": [
    {
     "data": {
      "text/plain": [
       "0.8470020675396278"
      ]
     },
     "execution_count": 39,
     "metadata": {},
     "output_type": "execute_result"
    }
   ],
   "source": [
    "from sklearn.linear_model import LogisticRegression\n",
    "model=LogisticRegression()\n",
    "model.fit(X_train_red,y_train)\n",
    "model.score(X_train_red,y_train)"
   ]
  },
  {
   "cell_type": "code",
   "execution_count": 40,
   "id": "9313b3f9",
   "metadata": {},
   "outputs": [],
   "source": [
    "yp = model.predict(X_test_red)"
   ]
  },
  {
   "cell_type": "code",
   "execution_count": 41,
   "id": "db03343b",
   "metadata": {},
   "outputs": [],
   "source": [
    "df_submit = pd.DataFrame({'Id':df_test['Id'],'SalePrice':yp})"
   ]
  },
  {
   "cell_type": "code",
   "execution_count": 42,
   "id": "01b41aa4",
   "metadata": {},
   "outputs": [],
   "source": [
    "df_submit.to_csv('sub8.csv',index=False)"
   ]
  },
  {
   "cell_type": "code",
   "execution_count": null,
   "id": "ecca1cd8",
   "metadata": {},
   "outputs": [],
   "source": []
  }
 ],
 "metadata": {
  "kernelspec": {
   "display_name": "Python 3 (ipykernel)",
   "language": "python",
   "name": "python3"
  },
  "language_info": {
   "codemirror_mode": {
    "name": "ipython",
    "version": 3
   },
   "file_extension": ".py",
   "mimetype": "text/x-python",
   "name": "python",
   "nbconvert_exporter": "python",
   "pygments_lexer": "ipython3",
   "version": "3.11.4"
  }
 },
 "nbformat": 4,
 "nbformat_minor": 5
}
